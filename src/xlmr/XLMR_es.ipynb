{
  "nbformat": 4,
  "nbformat_minor": 0,
  "metadata": {
    "colab": {
      "name": "XLMR_es.ipynb",
      "provenance": [],
      "collapsed_sections": [
        "uwNXC4K29xou",
        "K1cvey42943U",
        "NOCw6trH98vE",
        "WiSKulcAvMYv"
      ],
      "toc_visible": true
    },
    "kernelspec": {
      "name": "python3",
      "display_name": "Python 3"
    },
    "language_info": {
      "name": "python"
    },
    "widgets": {
      "application/vnd.jupyter.widget-state+json": {
        "8ff5557ed1104b799acc13301ad9a9e9": {
          "model_module": "@jupyter-widgets/controls",
          "model_name": "HBoxModel",
          "model_module_version": "1.5.0",
          "state": {
            "_view_name": "HBoxView",
            "_dom_classes": [],
            "_model_name": "HBoxModel",
            "_view_module": "@jupyter-widgets/controls",
            "_model_module_version": "1.5.0",
            "_view_count": null,
            "_view_module_version": "1.5.0",
            "box_style": "",
            "layout": "IPY_MODEL_702acf0aed9d4ab3ba204545ffbd4197",
            "_model_module": "@jupyter-widgets/controls",
            "children": [
              "IPY_MODEL_c46b295f30a14b4795ac008c5237f29d",
              "IPY_MODEL_5006c904b85843c58cd5ef421e2acdfc",
              "IPY_MODEL_8741a8d7d6d04641ac7699b8f64ee8a7"
            ]
          }
        },
        "702acf0aed9d4ab3ba204545ffbd4197": {
          "model_module": "@jupyter-widgets/base",
          "model_name": "LayoutModel",
          "model_module_version": "1.2.0",
          "state": {
            "_view_name": "LayoutView",
            "grid_template_rows": null,
            "right": null,
            "justify_content": null,
            "_view_module": "@jupyter-widgets/base",
            "overflow": null,
            "_model_module_version": "1.2.0",
            "_view_count": null,
            "flex_flow": null,
            "width": null,
            "min_width": null,
            "border": null,
            "align_items": null,
            "bottom": null,
            "_model_module": "@jupyter-widgets/base",
            "top": null,
            "grid_column": null,
            "overflow_y": null,
            "overflow_x": null,
            "grid_auto_flow": null,
            "grid_area": null,
            "grid_template_columns": null,
            "flex": null,
            "_model_name": "LayoutModel",
            "justify_items": null,
            "grid_row": null,
            "max_height": null,
            "align_content": null,
            "visibility": null,
            "align_self": null,
            "height": null,
            "min_height": null,
            "padding": null,
            "grid_auto_rows": null,
            "grid_gap": null,
            "max_width": null,
            "order": null,
            "_view_module_version": "1.2.0",
            "grid_template_areas": null,
            "object_position": null,
            "object_fit": null,
            "grid_auto_columns": null,
            "margin": null,
            "display": null,
            "left": null
          }
        },
        "c46b295f30a14b4795ac008c5237f29d": {
          "model_module": "@jupyter-widgets/controls",
          "model_name": "HTMLModel",
          "model_module_version": "1.5.0",
          "state": {
            "_view_name": "HTMLView",
            "style": "IPY_MODEL_6c2f563556224dcfb1d7d87ad289c0e4",
            "_dom_classes": [],
            "description": "",
            "_model_name": "HTMLModel",
            "placeholder": "​",
            "_view_module": "@jupyter-widgets/controls",
            "_model_module_version": "1.5.0",
            "value": "Downloading: 100%",
            "_view_count": null,
            "_view_module_version": "1.5.0",
            "description_tooltip": null,
            "_model_module": "@jupyter-widgets/controls",
            "layout": "IPY_MODEL_b97008eb318d43d98994f6bc112826f3"
          }
        },
        "5006c904b85843c58cd5ef421e2acdfc": {
          "model_module": "@jupyter-widgets/controls",
          "model_name": "FloatProgressModel",
          "model_module_version": "1.5.0",
          "state": {
            "_view_name": "ProgressView",
            "style": "IPY_MODEL_d294de1205a142a398da1a1ae641b1b9",
            "_dom_classes": [],
            "description": "",
            "_model_name": "FloatProgressModel",
            "bar_style": "success",
            "max": 5069051,
            "_view_module": "@jupyter-widgets/controls",
            "_model_module_version": "1.5.0",
            "value": 5069051,
            "_view_count": null,
            "_view_module_version": "1.5.0",
            "orientation": "horizontal",
            "min": 0,
            "description_tooltip": null,
            "_model_module": "@jupyter-widgets/controls",
            "layout": "IPY_MODEL_d7eb8b3325cd4106833673f8385b2a25"
          }
        },
        "8741a8d7d6d04641ac7699b8f64ee8a7": {
          "model_module": "@jupyter-widgets/controls",
          "model_name": "HTMLModel",
          "model_module_version": "1.5.0",
          "state": {
            "_view_name": "HTMLView",
            "style": "IPY_MODEL_8292621fd7f448ed9cfb3fd961d4b206",
            "_dom_classes": [],
            "description": "",
            "_model_name": "HTMLModel",
            "placeholder": "​",
            "_view_module": "@jupyter-widgets/controls",
            "_model_module_version": "1.5.0",
            "value": " 4.83M/4.83M [00:00&lt;00:00, 7.99MB/s]",
            "_view_count": null,
            "_view_module_version": "1.5.0",
            "description_tooltip": null,
            "_model_module": "@jupyter-widgets/controls",
            "layout": "IPY_MODEL_24cc075c7bcc4c98bec5df1459aade2b"
          }
        },
        "6c2f563556224dcfb1d7d87ad289c0e4": {
          "model_module": "@jupyter-widgets/controls",
          "model_name": "DescriptionStyleModel",
          "model_module_version": "1.5.0",
          "state": {
            "_view_name": "StyleView",
            "_model_name": "DescriptionStyleModel",
            "description_width": "",
            "_view_module": "@jupyter-widgets/base",
            "_model_module_version": "1.5.0",
            "_view_count": null,
            "_view_module_version": "1.2.0",
            "_model_module": "@jupyter-widgets/controls"
          }
        },
        "b97008eb318d43d98994f6bc112826f3": {
          "model_module": "@jupyter-widgets/base",
          "model_name": "LayoutModel",
          "model_module_version": "1.2.0",
          "state": {
            "_view_name": "LayoutView",
            "grid_template_rows": null,
            "right": null,
            "justify_content": null,
            "_view_module": "@jupyter-widgets/base",
            "overflow": null,
            "_model_module_version": "1.2.0",
            "_view_count": null,
            "flex_flow": null,
            "width": null,
            "min_width": null,
            "border": null,
            "align_items": null,
            "bottom": null,
            "_model_module": "@jupyter-widgets/base",
            "top": null,
            "grid_column": null,
            "overflow_y": null,
            "overflow_x": null,
            "grid_auto_flow": null,
            "grid_area": null,
            "grid_template_columns": null,
            "flex": null,
            "_model_name": "LayoutModel",
            "justify_items": null,
            "grid_row": null,
            "max_height": null,
            "align_content": null,
            "visibility": null,
            "align_self": null,
            "height": null,
            "min_height": null,
            "padding": null,
            "grid_auto_rows": null,
            "grid_gap": null,
            "max_width": null,
            "order": null,
            "_view_module_version": "1.2.0",
            "grid_template_areas": null,
            "object_position": null,
            "object_fit": null,
            "grid_auto_columns": null,
            "margin": null,
            "display": null,
            "left": null
          }
        },
        "d294de1205a142a398da1a1ae641b1b9": {
          "model_module": "@jupyter-widgets/controls",
          "model_name": "ProgressStyleModel",
          "model_module_version": "1.5.0",
          "state": {
            "_view_name": "StyleView",
            "_model_name": "ProgressStyleModel",
            "description_width": "",
            "_view_module": "@jupyter-widgets/base",
            "_model_module_version": "1.5.0",
            "_view_count": null,
            "_view_module_version": "1.2.0",
            "bar_color": null,
            "_model_module": "@jupyter-widgets/controls"
          }
        },
        "d7eb8b3325cd4106833673f8385b2a25": {
          "model_module": "@jupyter-widgets/base",
          "model_name": "LayoutModel",
          "model_module_version": "1.2.0",
          "state": {
            "_view_name": "LayoutView",
            "grid_template_rows": null,
            "right": null,
            "justify_content": null,
            "_view_module": "@jupyter-widgets/base",
            "overflow": null,
            "_model_module_version": "1.2.0",
            "_view_count": null,
            "flex_flow": null,
            "width": null,
            "min_width": null,
            "border": null,
            "align_items": null,
            "bottom": null,
            "_model_module": "@jupyter-widgets/base",
            "top": null,
            "grid_column": null,
            "overflow_y": null,
            "overflow_x": null,
            "grid_auto_flow": null,
            "grid_area": null,
            "grid_template_columns": null,
            "flex": null,
            "_model_name": "LayoutModel",
            "justify_items": null,
            "grid_row": null,
            "max_height": null,
            "align_content": null,
            "visibility": null,
            "align_self": null,
            "height": null,
            "min_height": null,
            "padding": null,
            "grid_auto_rows": null,
            "grid_gap": null,
            "max_width": null,
            "order": null,
            "_view_module_version": "1.2.0",
            "grid_template_areas": null,
            "object_position": null,
            "object_fit": null,
            "grid_auto_columns": null,
            "margin": null,
            "display": null,
            "left": null
          }
        },
        "8292621fd7f448ed9cfb3fd961d4b206": {
          "model_module": "@jupyter-widgets/controls",
          "model_name": "DescriptionStyleModel",
          "model_module_version": "1.5.0",
          "state": {
            "_view_name": "StyleView",
            "_model_name": "DescriptionStyleModel",
            "description_width": "",
            "_view_module": "@jupyter-widgets/base",
            "_model_module_version": "1.5.0",
            "_view_count": null,
            "_view_module_version": "1.2.0",
            "_model_module": "@jupyter-widgets/controls"
          }
        },
        "24cc075c7bcc4c98bec5df1459aade2b": {
          "model_module": "@jupyter-widgets/base",
          "model_name": "LayoutModel",
          "model_module_version": "1.2.0",
          "state": {
            "_view_name": "LayoutView",
            "grid_template_rows": null,
            "right": null,
            "justify_content": null,
            "_view_module": "@jupyter-widgets/base",
            "overflow": null,
            "_model_module_version": "1.2.0",
            "_view_count": null,
            "flex_flow": null,
            "width": null,
            "min_width": null,
            "border": null,
            "align_items": null,
            "bottom": null,
            "_model_module": "@jupyter-widgets/base",
            "top": null,
            "grid_column": null,
            "overflow_y": null,
            "overflow_x": null,
            "grid_auto_flow": null,
            "grid_area": null,
            "grid_template_columns": null,
            "flex": null,
            "_model_name": "LayoutModel",
            "justify_items": null,
            "grid_row": null,
            "max_height": null,
            "align_content": null,
            "visibility": null,
            "align_self": null,
            "height": null,
            "min_height": null,
            "padding": null,
            "grid_auto_rows": null,
            "grid_gap": null,
            "max_width": null,
            "order": null,
            "_view_module_version": "1.2.0",
            "grid_template_areas": null,
            "object_position": null,
            "object_fit": null,
            "grid_auto_columns": null,
            "margin": null,
            "display": null,
            "left": null
          }
        },
        "9807bd44dbb24ecebdca99364391ff78": {
          "model_module": "@jupyter-widgets/controls",
          "model_name": "HBoxModel",
          "model_module_version": "1.5.0",
          "state": {
            "_view_name": "HBoxView",
            "_dom_classes": [],
            "_model_name": "HBoxModel",
            "_view_module": "@jupyter-widgets/controls",
            "_model_module_version": "1.5.0",
            "_view_count": null,
            "_view_module_version": "1.5.0",
            "box_style": "",
            "layout": "IPY_MODEL_11362ccf1e4c47ee8e3be97d51788297",
            "_model_module": "@jupyter-widgets/controls",
            "children": [
              "IPY_MODEL_51cdb4cfd7254d939f7b34b39000394e",
              "IPY_MODEL_e8b23c45758343cbbe7d1b1101ce876f",
              "IPY_MODEL_c6d4839f253c419781649d3c2b8cfcaf"
            ]
          }
        },
        "11362ccf1e4c47ee8e3be97d51788297": {
          "model_module": "@jupyter-widgets/base",
          "model_name": "LayoutModel",
          "model_module_version": "1.2.0",
          "state": {
            "_view_name": "LayoutView",
            "grid_template_rows": null,
            "right": null,
            "justify_content": null,
            "_view_module": "@jupyter-widgets/base",
            "overflow": null,
            "_model_module_version": "1.2.0",
            "_view_count": null,
            "flex_flow": null,
            "width": null,
            "min_width": null,
            "border": null,
            "align_items": null,
            "bottom": null,
            "_model_module": "@jupyter-widgets/base",
            "top": null,
            "grid_column": null,
            "overflow_y": null,
            "overflow_x": null,
            "grid_auto_flow": null,
            "grid_area": null,
            "grid_template_columns": null,
            "flex": null,
            "_model_name": "LayoutModel",
            "justify_items": null,
            "grid_row": null,
            "max_height": null,
            "align_content": null,
            "visibility": null,
            "align_self": null,
            "height": null,
            "min_height": null,
            "padding": null,
            "grid_auto_rows": null,
            "grid_gap": null,
            "max_width": null,
            "order": null,
            "_view_module_version": "1.2.0",
            "grid_template_areas": null,
            "object_position": null,
            "object_fit": null,
            "grid_auto_columns": null,
            "margin": null,
            "display": null,
            "left": null
          }
        },
        "51cdb4cfd7254d939f7b34b39000394e": {
          "model_module": "@jupyter-widgets/controls",
          "model_name": "HTMLModel",
          "model_module_version": "1.5.0",
          "state": {
            "_view_name": "HTMLView",
            "style": "IPY_MODEL_63fb710b282f4a91880bbbe67b053787",
            "_dom_classes": [],
            "description": "",
            "_model_name": "HTMLModel",
            "placeholder": "​",
            "_view_module": "@jupyter-widgets/controls",
            "_model_module_version": "1.5.0",
            "value": "Downloading: 100%",
            "_view_count": null,
            "_view_module_version": "1.5.0",
            "description_tooltip": null,
            "_model_module": "@jupyter-widgets/controls",
            "layout": "IPY_MODEL_15abda6c9a8841fda46ef6b7eccfd05b"
          }
        },
        "e8b23c45758343cbbe7d1b1101ce876f": {
          "model_module": "@jupyter-widgets/controls",
          "model_name": "FloatProgressModel",
          "model_module_version": "1.5.0",
          "state": {
            "_view_name": "ProgressView",
            "style": "IPY_MODEL_3370faead3d9439d8a3e2b587b55e71c",
            "_dom_classes": [],
            "description": "",
            "_model_name": "FloatProgressModel",
            "bar_style": "success",
            "max": 9096718,
            "_view_module": "@jupyter-widgets/controls",
            "_model_module_version": "1.5.0",
            "value": 9096718,
            "_view_count": null,
            "_view_module_version": "1.5.0",
            "orientation": "horizontal",
            "min": 0,
            "description_tooltip": null,
            "_model_module": "@jupyter-widgets/controls",
            "layout": "IPY_MODEL_2b7173d60f5e4758872fbbf3afec596a"
          }
        },
        "c6d4839f253c419781649d3c2b8cfcaf": {
          "model_module": "@jupyter-widgets/controls",
          "model_name": "HTMLModel",
          "model_module_version": "1.5.0",
          "state": {
            "_view_name": "HTMLView",
            "style": "IPY_MODEL_0e16f5c733d64ce38cfdf8cee45f8fb7",
            "_dom_classes": [],
            "description": "",
            "_model_name": "HTMLModel",
            "placeholder": "​",
            "_view_module": "@jupyter-widgets/controls",
            "_model_module_version": "1.5.0",
            "value": " 8.68M/8.68M [00:00&lt;00:00, 15.2MB/s]",
            "_view_count": null,
            "_view_module_version": "1.5.0",
            "description_tooltip": null,
            "_model_module": "@jupyter-widgets/controls",
            "layout": "IPY_MODEL_645987c7e5664ab89c6573d9ce43c2ce"
          }
        },
        "63fb710b282f4a91880bbbe67b053787": {
          "model_module": "@jupyter-widgets/controls",
          "model_name": "DescriptionStyleModel",
          "model_module_version": "1.5.0",
          "state": {
            "_view_name": "StyleView",
            "_model_name": "DescriptionStyleModel",
            "description_width": "",
            "_view_module": "@jupyter-widgets/base",
            "_model_module_version": "1.5.0",
            "_view_count": null,
            "_view_module_version": "1.2.0",
            "_model_module": "@jupyter-widgets/controls"
          }
        },
        "15abda6c9a8841fda46ef6b7eccfd05b": {
          "model_module": "@jupyter-widgets/base",
          "model_name": "LayoutModel",
          "model_module_version": "1.2.0",
          "state": {
            "_view_name": "LayoutView",
            "grid_template_rows": null,
            "right": null,
            "justify_content": null,
            "_view_module": "@jupyter-widgets/base",
            "overflow": null,
            "_model_module_version": "1.2.0",
            "_view_count": null,
            "flex_flow": null,
            "width": null,
            "min_width": null,
            "border": null,
            "align_items": null,
            "bottom": null,
            "_model_module": "@jupyter-widgets/base",
            "top": null,
            "grid_column": null,
            "overflow_y": null,
            "overflow_x": null,
            "grid_auto_flow": null,
            "grid_area": null,
            "grid_template_columns": null,
            "flex": null,
            "_model_name": "LayoutModel",
            "justify_items": null,
            "grid_row": null,
            "max_height": null,
            "align_content": null,
            "visibility": null,
            "align_self": null,
            "height": null,
            "min_height": null,
            "padding": null,
            "grid_auto_rows": null,
            "grid_gap": null,
            "max_width": null,
            "order": null,
            "_view_module_version": "1.2.0",
            "grid_template_areas": null,
            "object_position": null,
            "object_fit": null,
            "grid_auto_columns": null,
            "margin": null,
            "display": null,
            "left": null
          }
        },
        "3370faead3d9439d8a3e2b587b55e71c": {
          "model_module": "@jupyter-widgets/controls",
          "model_name": "ProgressStyleModel",
          "model_module_version": "1.5.0",
          "state": {
            "_view_name": "StyleView",
            "_model_name": "ProgressStyleModel",
            "description_width": "",
            "_view_module": "@jupyter-widgets/base",
            "_model_module_version": "1.5.0",
            "_view_count": null,
            "_view_module_version": "1.2.0",
            "bar_color": null,
            "_model_module": "@jupyter-widgets/controls"
          }
        },
        "2b7173d60f5e4758872fbbf3afec596a": {
          "model_module": "@jupyter-widgets/base",
          "model_name": "LayoutModel",
          "model_module_version": "1.2.0",
          "state": {
            "_view_name": "LayoutView",
            "grid_template_rows": null,
            "right": null,
            "justify_content": null,
            "_view_module": "@jupyter-widgets/base",
            "overflow": null,
            "_model_module_version": "1.2.0",
            "_view_count": null,
            "flex_flow": null,
            "width": null,
            "min_width": null,
            "border": null,
            "align_items": null,
            "bottom": null,
            "_model_module": "@jupyter-widgets/base",
            "top": null,
            "grid_column": null,
            "overflow_y": null,
            "overflow_x": null,
            "grid_auto_flow": null,
            "grid_area": null,
            "grid_template_columns": null,
            "flex": null,
            "_model_name": "LayoutModel",
            "justify_items": null,
            "grid_row": null,
            "max_height": null,
            "align_content": null,
            "visibility": null,
            "align_self": null,
            "height": null,
            "min_height": null,
            "padding": null,
            "grid_auto_rows": null,
            "grid_gap": null,
            "max_width": null,
            "order": null,
            "_view_module_version": "1.2.0",
            "grid_template_areas": null,
            "object_position": null,
            "object_fit": null,
            "grid_auto_columns": null,
            "margin": null,
            "display": null,
            "left": null
          }
        },
        "0e16f5c733d64ce38cfdf8cee45f8fb7": {
          "model_module": "@jupyter-widgets/controls",
          "model_name": "DescriptionStyleModel",
          "model_module_version": "1.5.0",
          "state": {
            "_view_name": "StyleView",
            "_model_name": "DescriptionStyleModel",
            "description_width": "",
            "_view_module": "@jupyter-widgets/base",
            "_model_module_version": "1.5.0",
            "_view_count": null,
            "_view_module_version": "1.2.0",
            "_model_module": "@jupyter-widgets/controls"
          }
        },
        "645987c7e5664ab89c6573d9ce43c2ce": {
          "model_module": "@jupyter-widgets/base",
          "model_name": "LayoutModel",
          "model_module_version": "1.2.0",
          "state": {
            "_view_name": "LayoutView",
            "grid_template_rows": null,
            "right": null,
            "justify_content": null,
            "_view_module": "@jupyter-widgets/base",
            "overflow": null,
            "_model_module_version": "1.2.0",
            "_view_count": null,
            "flex_flow": null,
            "width": null,
            "min_width": null,
            "border": null,
            "align_items": null,
            "bottom": null,
            "_model_module": "@jupyter-widgets/base",
            "top": null,
            "grid_column": null,
            "overflow_y": null,
            "overflow_x": null,
            "grid_auto_flow": null,
            "grid_area": null,
            "grid_template_columns": null,
            "flex": null,
            "_model_name": "LayoutModel",
            "justify_items": null,
            "grid_row": null,
            "max_height": null,
            "align_content": null,
            "visibility": null,
            "align_self": null,
            "height": null,
            "min_height": null,
            "padding": null,
            "grid_auto_rows": null,
            "grid_gap": null,
            "max_width": null,
            "order": null,
            "_view_module_version": "1.2.0",
            "grid_template_areas": null,
            "object_position": null,
            "object_fit": null,
            "grid_auto_columns": null,
            "margin": null,
            "display": null,
            "left": null
          }
        },
        "94542b8b0d1148c1b082044d7c040e55": {
          "model_module": "@jupyter-widgets/controls",
          "model_name": "HBoxModel",
          "model_module_version": "1.5.0",
          "state": {
            "_view_name": "HBoxView",
            "_dom_classes": [],
            "_model_name": "HBoxModel",
            "_view_module": "@jupyter-widgets/controls",
            "_model_module_version": "1.5.0",
            "_view_count": null,
            "_view_module_version": "1.5.0",
            "box_style": "",
            "layout": "IPY_MODEL_6d0b5e5f9ac04414862bd737efbee833",
            "_model_module": "@jupyter-widgets/controls",
            "children": [
              "IPY_MODEL_5d7b7e5578804ddfa56a5ff8868f3f7e",
              "IPY_MODEL_8b6d9da7bfa8405bbeb5697b8bcbf7b1",
              "IPY_MODEL_9e6b4182c38a45ffbb950d3aa51a2d54"
            ]
          }
        },
        "6d0b5e5f9ac04414862bd737efbee833": {
          "model_module": "@jupyter-widgets/base",
          "model_name": "LayoutModel",
          "model_module_version": "1.2.0",
          "state": {
            "_view_name": "LayoutView",
            "grid_template_rows": null,
            "right": null,
            "justify_content": null,
            "_view_module": "@jupyter-widgets/base",
            "overflow": null,
            "_model_module_version": "1.2.0",
            "_view_count": null,
            "flex_flow": null,
            "width": null,
            "min_width": null,
            "border": null,
            "align_items": null,
            "bottom": null,
            "_model_module": "@jupyter-widgets/base",
            "top": null,
            "grid_column": null,
            "overflow_y": null,
            "overflow_x": null,
            "grid_auto_flow": null,
            "grid_area": null,
            "grid_template_columns": null,
            "flex": null,
            "_model_name": "LayoutModel",
            "justify_items": null,
            "grid_row": null,
            "max_height": null,
            "align_content": null,
            "visibility": null,
            "align_self": null,
            "height": null,
            "min_height": null,
            "padding": null,
            "grid_auto_rows": null,
            "grid_gap": null,
            "max_width": null,
            "order": null,
            "_view_module_version": "1.2.0",
            "grid_template_areas": null,
            "object_position": null,
            "object_fit": null,
            "grid_auto_columns": null,
            "margin": null,
            "display": null,
            "left": null
          }
        },
        "5d7b7e5578804ddfa56a5ff8868f3f7e": {
          "model_module": "@jupyter-widgets/controls",
          "model_name": "HTMLModel",
          "model_module_version": "1.5.0",
          "state": {
            "_view_name": "HTMLView",
            "style": "IPY_MODEL_e98343d4665a4073be65df785f1b0320",
            "_dom_classes": [],
            "description": "",
            "_model_name": "HTMLModel",
            "placeholder": "​",
            "_view_module": "@jupyter-widgets/controls",
            "_model_module_version": "1.5.0",
            "value": "Downloading: 100%",
            "_view_count": null,
            "_view_module_version": "1.5.0",
            "description_tooltip": null,
            "_model_module": "@jupyter-widgets/controls",
            "layout": "IPY_MODEL_a5a8475c9b69435989f7c425e8796d43"
          }
        },
        "8b6d9da7bfa8405bbeb5697b8bcbf7b1": {
          "model_module": "@jupyter-widgets/controls",
          "model_name": "FloatProgressModel",
          "model_module_version": "1.5.0",
          "state": {
            "_view_name": "ProgressView",
            "style": "IPY_MODEL_87f2de3f912a4e01a7ae3d8654164f1d",
            "_dom_classes": [],
            "description": "",
            "_model_name": "FloatProgressModel",
            "bar_style": "success",
            "max": 512,
            "_view_module": "@jupyter-widgets/controls",
            "_model_module_version": "1.5.0",
            "value": 512,
            "_view_count": null,
            "_view_module_version": "1.5.0",
            "orientation": "horizontal",
            "min": 0,
            "description_tooltip": null,
            "_model_module": "@jupyter-widgets/controls",
            "layout": "IPY_MODEL_4e5851f869b74f92aac93b40b5526894"
          }
        },
        "9e6b4182c38a45ffbb950d3aa51a2d54": {
          "model_module": "@jupyter-widgets/controls",
          "model_name": "HTMLModel",
          "model_module_version": "1.5.0",
          "state": {
            "_view_name": "HTMLView",
            "style": "IPY_MODEL_d4790a66df3048ad9c6606dceacff6d3",
            "_dom_classes": [],
            "description": "",
            "_model_name": "HTMLModel",
            "placeholder": "​",
            "_view_module": "@jupyter-widgets/controls",
            "_model_module_version": "1.5.0",
            "value": " 512/512 [00:00&lt;00:00, 14.4kB/s]",
            "_view_count": null,
            "_view_module_version": "1.5.0",
            "description_tooltip": null,
            "_model_module": "@jupyter-widgets/controls",
            "layout": "IPY_MODEL_ec710a661aa0444fb69d726ce664594d"
          }
        },
        "e98343d4665a4073be65df785f1b0320": {
          "model_module": "@jupyter-widgets/controls",
          "model_name": "DescriptionStyleModel",
          "model_module_version": "1.5.0",
          "state": {
            "_view_name": "StyleView",
            "_model_name": "DescriptionStyleModel",
            "description_width": "",
            "_view_module": "@jupyter-widgets/base",
            "_model_module_version": "1.5.0",
            "_view_count": null,
            "_view_module_version": "1.2.0",
            "_model_module": "@jupyter-widgets/controls"
          }
        },
        "a5a8475c9b69435989f7c425e8796d43": {
          "model_module": "@jupyter-widgets/base",
          "model_name": "LayoutModel",
          "model_module_version": "1.2.0",
          "state": {
            "_view_name": "LayoutView",
            "grid_template_rows": null,
            "right": null,
            "justify_content": null,
            "_view_module": "@jupyter-widgets/base",
            "overflow": null,
            "_model_module_version": "1.2.0",
            "_view_count": null,
            "flex_flow": null,
            "width": null,
            "min_width": null,
            "border": null,
            "align_items": null,
            "bottom": null,
            "_model_module": "@jupyter-widgets/base",
            "top": null,
            "grid_column": null,
            "overflow_y": null,
            "overflow_x": null,
            "grid_auto_flow": null,
            "grid_area": null,
            "grid_template_columns": null,
            "flex": null,
            "_model_name": "LayoutModel",
            "justify_items": null,
            "grid_row": null,
            "max_height": null,
            "align_content": null,
            "visibility": null,
            "align_self": null,
            "height": null,
            "min_height": null,
            "padding": null,
            "grid_auto_rows": null,
            "grid_gap": null,
            "max_width": null,
            "order": null,
            "_view_module_version": "1.2.0",
            "grid_template_areas": null,
            "object_position": null,
            "object_fit": null,
            "grid_auto_columns": null,
            "margin": null,
            "display": null,
            "left": null
          }
        },
        "87f2de3f912a4e01a7ae3d8654164f1d": {
          "model_module": "@jupyter-widgets/controls",
          "model_name": "ProgressStyleModel",
          "model_module_version": "1.5.0",
          "state": {
            "_view_name": "StyleView",
            "_model_name": "ProgressStyleModel",
            "description_width": "",
            "_view_module": "@jupyter-widgets/base",
            "_model_module_version": "1.5.0",
            "_view_count": null,
            "_view_module_version": "1.2.0",
            "bar_color": null,
            "_model_module": "@jupyter-widgets/controls"
          }
        },
        "4e5851f869b74f92aac93b40b5526894": {
          "model_module": "@jupyter-widgets/base",
          "model_name": "LayoutModel",
          "model_module_version": "1.2.0",
          "state": {
            "_view_name": "LayoutView",
            "grid_template_rows": null,
            "right": null,
            "justify_content": null,
            "_view_module": "@jupyter-widgets/base",
            "overflow": null,
            "_model_module_version": "1.2.0",
            "_view_count": null,
            "flex_flow": null,
            "width": null,
            "min_width": null,
            "border": null,
            "align_items": null,
            "bottom": null,
            "_model_module": "@jupyter-widgets/base",
            "top": null,
            "grid_column": null,
            "overflow_y": null,
            "overflow_x": null,
            "grid_auto_flow": null,
            "grid_area": null,
            "grid_template_columns": null,
            "flex": null,
            "_model_name": "LayoutModel",
            "justify_items": null,
            "grid_row": null,
            "max_height": null,
            "align_content": null,
            "visibility": null,
            "align_self": null,
            "height": null,
            "min_height": null,
            "padding": null,
            "grid_auto_rows": null,
            "grid_gap": null,
            "max_width": null,
            "order": null,
            "_view_module_version": "1.2.0",
            "grid_template_areas": null,
            "object_position": null,
            "object_fit": null,
            "grid_auto_columns": null,
            "margin": null,
            "display": null,
            "left": null
          }
        },
        "d4790a66df3048ad9c6606dceacff6d3": {
          "model_module": "@jupyter-widgets/controls",
          "model_name": "DescriptionStyleModel",
          "model_module_version": "1.5.0",
          "state": {
            "_view_name": "StyleView",
            "_model_name": "DescriptionStyleModel",
            "description_width": "",
            "_view_module": "@jupyter-widgets/base",
            "_model_module_version": "1.5.0",
            "_view_count": null,
            "_view_module_version": "1.2.0",
            "_model_module": "@jupyter-widgets/controls"
          }
        },
        "ec710a661aa0444fb69d726ce664594d": {
          "model_module": "@jupyter-widgets/base",
          "model_name": "LayoutModel",
          "model_module_version": "1.2.0",
          "state": {
            "_view_name": "LayoutView",
            "grid_template_rows": null,
            "right": null,
            "justify_content": null,
            "_view_module": "@jupyter-widgets/base",
            "overflow": null,
            "_model_module_version": "1.2.0",
            "_view_count": null,
            "flex_flow": null,
            "width": null,
            "min_width": null,
            "border": null,
            "align_items": null,
            "bottom": null,
            "_model_module": "@jupyter-widgets/base",
            "top": null,
            "grid_column": null,
            "overflow_y": null,
            "overflow_x": null,
            "grid_auto_flow": null,
            "grid_area": null,
            "grid_template_columns": null,
            "flex": null,
            "_model_name": "LayoutModel",
            "justify_items": null,
            "grid_row": null,
            "max_height": null,
            "align_content": null,
            "visibility": null,
            "align_self": null,
            "height": null,
            "min_height": null,
            "padding": null,
            "grid_auto_rows": null,
            "grid_gap": null,
            "max_width": null,
            "order": null,
            "_view_module_version": "1.2.0",
            "grid_template_areas": null,
            "object_position": null,
            "object_fit": null,
            "grid_auto_columns": null,
            "margin": null,
            "display": null,
            "left": null
          }
        },
        "dc5ffae8385d4ced97c8a187e74f7f3a": {
          "model_module": "@jupyter-widgets/controls",
          "model_name": "HBoxModel",
          "model_module_version": "1.5.0",
          "state": {
            "_view_name": "HBoxView",
            "_dom_classes": [],
            "_model_name": "HBoxModel",
            "_view_module": "@jupyter-widgets/controls",
            "_model_module_version": "1.5.0",
            "_view_count": null,
            "_view_module_version": "1.5.0",
            "box_style": "",
            "layout": "IPY_MODEL_b08c407d39594c6eaa9e6d3c8f30fe1d",
            "_model_module": "@jupyter-widgets/controls",
            "children": [
              "IPY_MODEL_1140a1454604425b9bf9961c12c3bd16",
              "IPY_MODEL_25cc860aceda46cd98f7ee63cdac6eaa",
              "IPY_MODEL_a2058af28736476fa8186730f66a07fe"
            ]
          }
        },
        "b08c407d39594c6eaa9e6d3c8f30fe1d": {
          "model_module": "@jupyter-widgets/base",
          "model_name": "LayoutModel",
          "model_module_version": "1.2.0",
          "state": {
            "_view_name": "LayoutView",
            "grid_template_rows": null,
            "right": null,
            "justify_content": null,
            "_view_module": "@jupyter-widgets/base",
            "overflow": null,
            "_model_module_version": "1.2.0",
            "_view_count": null,
            "flex_flow": null,
            "width": null,
            "min_width": null,
            "border": null,
            "align_items": null,
            "bottom": null,
            "_model_module": "@jupyter-widgets/base",
            "top": null,
            "grid_column": null,
            "overflow_y": null,
            "overflow_x": null,
            "grid_auto_flow": null,
            "grid_area": null,
            "grid_template_columns": null,
            "flex": null,
            "_model_name": "LayoutModel",
            "justify_items": null,
            "grid_row": null,
            "max_height": null,
            "align_content": null,
            "visibility": null,
            "align_self": null,
            "height": null,
            "min_height": null,
            "padding": null,
            "grid_auto_rows": null,
            "grid_gap": null,
            "max_width": null,
            "order": null,
            "_view_module_version": "1.2.0",
            "grid_template_areas": null,
            "object_position": null,
            "object_fit": null,
            "grid_auto_columns": null,
            "margin": null,
            "display": null,
            "left": null
          }
        },
        "1140a1454604425b9bf9961c12c3bd16": {
          "model_module": "@jupyter-widgets/controls",
          "model_name": "HTMLModel",
          "model_module_version": "1.5.0",
          "state": {
            "_view_name": "HTMLView",
            "style": "IPY_MODEL_f6d54c59b61d4c0eb8ddce3be0fca3ab",
            "_dom_classes": [],
            "description": "",
            "_model_name": "HTMLModel",
            "placeholder": "​",
            "_view_module": "@jupyter-widgets/controls",
            "_model_module_version": "1.5.0",
            "value": "Downloading: 100%",
            "_view_count": null,
            "_view_module_version": "1.5.0",
            "description_tooltip": null,
            "_model_module": "@jupyter-widgets/controls",
            "layout": "IPY_MODEL_91b27bca62414e7386c7f2ad4ae1d5f2"
          }
        },
        "25cc860aceda46cd98f7ee63cdac6eaa": {
          "model_module": "@jupyter-widgets/controls",
          "model_name": "FloatProgressModel",
          "model_module_version": "1.5.0",
          "state": {
            "_view_name": "ProgressView",
            "style": "IPY_MODEL_ce1dd7269d124724a67e95fb7406e965",
            "_dom_classes": [],
            "description": "",
            "_model_name": "FloatProgressModel",
            "bar_style": "success",
            "max": 1115590446,
            "_view_module": "@jupyter-widgets/controls",
            "_model_module_version": "1.5.0",
            "value": 1115590446,
            "_view_count": null,
            "_view_module_version": "1.5.0",
            "orientation": "horizontal",
            "min": 0,
            "description_tooltip": null,
            "_model_module": "@jupyter-widgets/controls",
            "layout": "IPY_MODEL_d070713a22304fa1b4b2517048fdb84b"
          }
        },
        "a2058af28736476fa8186730f66a07fe": {
          "model_module": "@jupyter-widgets/controls",
          "model_name": "HTMLModel",
          "model_module_version": "1.5.0",
          "state": {
            "_view_name": "HTMLView",
            "style": "IPY_MODEL_a2ac34940b88499f99a6dd5afb6621f1",
            "_dom_classes": [],
            "description": "",
            "_model_name": "HTMLModel",
            "placeholder": "​",
            "_view_module": "@jupyter-widgets/controls",
            "_model_module_version": "1.5.0",
            "value": " 1.04G/1.04G [00:30&lt;00:00, 53.3MB/s]",
            "_view_count": null,
            "_view_module_version": "1.5.0",
            "description_tooltip": null,
            "_model_module": "@jupyter-widgets/controls",
            "layout": "IPY_MODEL_8824295a22cb4b9e871d26d954f6661a"
          }
        },
        "f6d54c59b61d4c0eb8ddce3be0fca3ab": {
          "model_module": "@jupyter-widgets/controls",
          "model_name": "DescriptionStyleModel",
          "model_module_version": "1.5.0",
          "state": {
            "_view_name": "StyleView",
            "_model_name": "DescriptionStyleModel",
            "description_width": "",
            "_view_module": "@jupyter-widgets/base",
            "_model_module_version": "1.5.0",
            "_view_count": null,
            "_view_module_version": "1.2.0",
            "_model_module": "@jupyter-widgets/controls"
          }
        },
        "91b27bca62414e7386c7f2ad4ae1d5f2": {
          "model_module": "@jupyter-widgets/base",
          "model_name": "LayoutModel",
          "model_module_version": "1.2.0",
          "state": {
            "_view_name": "LayoutView",
            "grid_template_rows": null,
            "right": null,
            "justify_content": null,
            "_view_module": "@jupyter-widgets/base",
            "overflow": null,
            "_model_module_version": "1.2.0",
            "_view_count": null,
            "flex_flow": null,
            "width": null,
            "min_width": null,
            "border": null,
            "align_items": null,
            "bottom": null,
            "_model_module": "@jupyter-widgets/base",
            "top": null,
            "grid_column": null,
            "overflow_y": null,
            "overflow_x": null,
            "grid_auto_flow": null,
            "grid_area": null,
            "grid_template_columns": null,
            "flex": null,
            "_model_name": "LayoutModel",
            "justify_items": null,
            "grid_row": null,
            "max_height": null,
            "align_content": null,
            "visibility": null,
            "align_self": null,
            "height": null,
            "min_height": null,
            "padding": null,
            "grid_auto_rows": null,
            "grid_gap": null,
            "max_width": null,
            "order": null,
            "_view_module_version": "1.2.0",
            "grid_template_areas": null,
            "object_position": null,
            "object_fit": null,
            "grid_auto_columns": null,
            "margin": null,
            "display": null,
            "left": null
          }
        },
        "ce1dd7269d124724a67e95fb7406e965": {
          "model_module": "@jupyter-widgets/controls",
          "model_name": "ProgressStyleModel",
          "model_module_version": "1.5.0",
          "state": {
            "_view_name": "StyleView",
            "_model_name": "ProgressStyleModel",
            "description_width": "",
            "_view_module": "@jupyter-widgets/base",
            "_model_module_version": "1.5.0",
            "_view_count": null,
            "_view_module_version": "1.2.0",
            "bar_color": null,
            "_model_module": "@jupyter-widgets/controls"
          }
        },
        "d070713a22304fa1b4b2517048fdb84b": {
          "model_module": "@jupyter-widgets/base",
          "model_name": "LayoutModel",
          "model_module_version": "1.2.0",
          "state": {
            "_view_name": "LayoutView",
            "grid_template_rows": null,
            "right": null,
            "justify_content": null,
            "_view_module": "@jupyter-widgets/base",
            "overflow": null,
            "_model_module_version": "1.2.0",
            "_view_count": null,
            "flex_flow": null,
            "width": null,
            "min_width": null,
            "border": null,
            "align_items": null,
            "bottom": null,
            "_model_module": "@jupyter-widgets/base",
            "top": null,
            "grid_column": null,
            "overflow_y": null,
            "overflow_x": null,
            "grid_auto_flow": null,
            "grid_area": null,
            "grid_template_columns": null,
            "flex": null,
            "_model_name": "LayoutModel",
            "justify_items": null,
            "grid_row": null,
            "max_height": null,
            "align_content": null,
            "visibility": null,
            "align_self": null,
            "height": null,
            "min_height": null,
            "padding": null,
            "grid_auto_rows": null,
            "grid_gap": null,
            "max_width": null,
            "order": null,
            "_view_module_version": "1.2.0",
            "grid_template_areas": null,
            "object_position": null,
            "object_fit": null,
            "grid_auto_columns": null,
            "margin": null,
            "display": null,
            "left": null
          }
        },
        "a2ac34940b88499f99a6dd5afb6621f1": {
          "model_module": "@jupyter-widgets/controls",
          "model_name": "DescriptionStyleModel",
          "model_module_version": "1.5.0",
          "state": {
            "_view_name": "StyleView",
            "_model_name": "DescriptionStyleModel",
            "description_width": "",
            "_view_module": "@jupyter-widgets/base",
            "_model_module_version": "1.5.0",
            "_view_count": null,
            "_view_module_version": "1.2.0",
            "_model_module": "@jupyter-widgets/controls"
          }
        },
        "8824295a22cb4b9e871d26d954f6661a": {
          "model_module": "@jupyter-widgets/base",
          "model_name": "LayoutModel",
          "model_module_version": "1.2.0",
          "state": {
            "_view_name": "LayoutView",
            "grid_template_rows": null,
            "right": null,
            "justify_content": null,
            "_view_module": "@jupyter-widgets/base",
            "overflow": null,
            "_model_module_version": "1.2.0",
            "_view_count": null,
            "flex_flow": null,
            "width": null,
            "min_width": null,
            "border": null,
            "align_items": null,
            "bottom": null,
            "_model_module": "@jupyter-widgets/base",
            "top": null,
            "grid_column": null,
            "overflow_y": null,
            "overflow_x": null,
            "grid_auto_flow": null,
            "grid_area": null,
            "grid_template_columns": null,
            "flex": null,
            "_model_name": "LayoutModel",
            "justify_items": null,
            "grid_row": null,
            "max_height": null,
            "align_content": null,
            "visibility": null,
            "align_self": null,
            "height": null,
            "min_height": null,
            "padding": null,
            "grid_auto_rows": null,
            "grid_gap": null,
            "max_width": null,
            "order": null,
            "_view_module_version": "1.2.0",
            "grid_template_areas": null,
            "object_position": null,
            "object_fit": null,
            "grid_auto_columns": null,
            "margin": null,
            "display": null,
            "left": null
          }
        }
      }
    },
    "accelerator": "GPU"
  },
  "cells": [
    {
      "cell_type": "markdown",
      "source": [
        "###load tools"
      ],
      "metadata": {
        "id": "XWxiWjpi8txe"
      }
    },
    {
      "cell_type": "code",
      "source": [
        "import os\n",
        "os.environ['CUDA_LAUNCH_BLOCKING'] = \"1\""
      ],
      "metadata": {
        "id": "8QMKP3NXIITi"
      },
      "execution_count": null,
      "outputs": []
    },
    {
      "cell_type": "code",
      "source": [
        "!pip install transformers\n",
        "!pip install sentencepiece"
      ],
      "metadata": {
        "colab": {
          "base_uri": "https://localhost:8080/"
        },
        "id": "PBOKgYyQ8iue",
        "outputId": "ef37b1f4-b19c-4f04-d588-e17318166c46"
      },
      "execution_count": null,
      "outputs": [
        {
          "output_type": "stream",
          "name": "stdout",
          "text": [
            "Collecting transformers\n",
            "  Downloading transformers-4.14.1-py3-none-any.whl (3.4 MB)\n",
            "\u001b[K     |████████████████████████████████| 3.4 MB 14.6 MB/s \n",
            "\u001b[?25hCollecting pyyaml>=5.1\n",
            "  Downloading PyYAML-6.0-cp37-cp37m-manylinux_2_5_x86_64.manylinux1_x86_64.manylinux_2_12_x86_64.manylinux2010_x86_64.whl (596 kB)\n",
            "\u001b[K     |████████████████████████████████| 596 kB 51.8 MB/s \n",
            "\u001b[?25hRequirement already satisfied: requests in /usr/local/lib/python3.7/dist-packages (from transformers) (2.23.0)\n",
            "Requirement already satisfied: tqdm>=4.27 in /usr/local/lib/python3.7/dist-packages (from transformers) (4.62.3)\n",
            "Requirement already satisfied: filelock in /usr/local/lib/python3.7/dist-packages (from transformers) (3.4.0)\n",
            "Requirement already satisfied: packaging>=20.0 in /usr/local/lib/python3.7/dist-packages (from transformers) (21.3)\n",
            "Collecting huggingface-hub<1.0,>=0.1.0\n",
            "  Downloading huggingface_hub-0.2.1-py3-none-any.whl (61 kB)\n",
            "\u001b[K     |████████████████████████████████| 61 kB 449 kB/s \n",
            "\u001b[?25hRequirement already satisfied: numpy>=1.17 in /usr/local/lib/python3.7/dist-packages (from transformers) (1.19.5)\n",
            "Collecting tokenizers<0.11,>=0.10.1\n",
            "  Downloading tokenizers-0.10.3-cp37-cp37m-manylinux_2_5_x86_64.manylinux1_x86_64.manylinux_2_12_x86_64.manylinux2010_x86_64.whl (3.3 MB)\n",
            "\u001b[K     |████████████████████████████████| 3.3 MB 25.0 MB/s \n",
            "\u001b[?25hRequirement already satisfied: regex!=2019.12.17 in /usr/local/lib/python3.7/dist-packages (from transformers) (2019.12.20)\n",
            "Collecting sacremoses\n",
            "  Downloading sacremoses-0.0.46-py3-none-any.whl (895 kB)\n",
            "\u001b[K     |████████████████████████████████| 895 kB 51.3 MB/s \n",
            "\u001b[?25hRequirement already satisfied: importlib-metadata in /usr/local/lib/python3.7/dist-packages (from transformers) (4.8.2)\n",
            "Requirement already satisfied: typing-extensions>=3.7.4.3 in /usr/local/lib/python3.7/dist-packages (from huggingface-hub<1.0,>=0.1.0->transformers) (3.10.0.2)\n",
            "Requirement already satisfied: pyparsing!=3.0.5,>=2.0.2 in /usr/local/lib/python3.7/dist-packages (from packaging>=20.0->transformers) (3.0.6)\n",
            "Requirement already satisfied: zipp>=0.5 in /usr/local/lib/python3.7/dist-packages (from importlib-metadata->transformers) (3.6.0)\n",
            "Requirement already satisfied: idna<3,>=2.5 in /usr/local/lib/python3.7/dist-packages (from requests->transformers) (2.10)\n",
            "Requirement already satisfied: urllib3!=1.25.0,!=1.25.1,<1.26,>=1.21.1 in /usr/local/lib/python3.7/dist-packages (from requests->transformers) (1.24.3)\n",
            "Requirement already satisfied: chardet<4,>=3.0.2 in /usr/local/lib/python3.7/dist-packages (from requests->transformers) (3.0.4)\n",
            "Requirement already satisfied: certifi>=2017.4.17 in /usr/local/lib/python3.7/dist-packages (from requests->transformers) (2021.10.8)\n",
            "Requirement already satisfied: click in /usr/local/lib/python3.7/dist-packages (from sacremoses->transformers) (7.1.2)\n",
            "Requirement already satisfied: joblib in /usr/local/lib/python3.7/dist-packages (from sacremoses->transformers) (1.1.0)\n",
            "Requirement already satisfied: six in /usr/local/lib/python3.7/dist-packages (from sacremoses->transformers) (1.15.0)\n",
            "Installing collected packages: pyyaml, tokenizers, sacremoses, huggingface-hub, transformers\n",
            "  Attempting uninstall: pyyaml\n",
            "    Found existing installation: PyYAML 3.13\n",
            "    Uninstalling PyYAML-3.13:\n",
            "      Successfully uninstalled PyYAML-3.13\n",
            "Successfully installed huggingface-hub-0.2.1 pyyaml-6.0 sacremoses-0.0.46 tokenizers-0.10.3 transformers-4.14.1\n",
            "Collecting sentencepiece\n",
            "  Downloading sentencepiece-0.1.96-cp37-cp37m-manylinux_2_17_x86_64.manylinux2014_x86_64.whl (1.2 MB)\n",
            "\u001b[K     |████████████████████████████████| 1.2 MB 8.1 MB/s \n",
            "\u001b[?25hInstalling collected packages: sentencepiece\n",
            "Successfully installed sentencepiece-0.1.96\n"
          ]
        }
      ]
    },
    {
      "cell_type": "code",
      "source": [
        "import os\n",
        "import time\n",
        "import datetime\n",
        "import random\n",
        "\n",
        "import numpy as np\n",
        "import pandas as pd\n",
        "import tensorflow as tf\n",
        "import torch\n",
        "from transformers import XLMRobertaForSequenceClassification, XLMRobertaTokenizer, AdamW, AutoTokenizer, get_linear_schedule_with_warmup\n",
        "from torch.utils.data import TensorDataset, DataLoader, RandomSampler, SequentialSampler"
      ],
      "metadata": {
        "id": "HWjwD_J-8nTc"
      },
      "execution_count": null,
      "outputs": []
    },
    {
      "cell_type": "code",
      "source": [
        "device = torch.device(\"cuda\" if torch.cuda.is_available() else \"cpu\")"
      ],
      "metadata": {
        "id": "tjteYUpG8xpS"
      },
      "execution_count": null,
      "outputs": []
    },
    {
      "cell_type": "markdown",
      "source": [
        "#Helper functions"
      ],
      "metadata": {
        "id": "spnt0BeWpCFr"
      }
    },
    {
      "cell_type": "markdown",
      "source": [
        "###Tokenize sentences"
      ],
      "metadata": {
        "id": "mX3bMQWI9bxs"
      }
    },
    {
      "cell_type": "code",
      "source": [
        "def tokenize_sentences(sentences, labels, tokenizer):\n",
        "  # Tokenize all of the sentences and map the tokens to thier word IDs.\n",
        "  input_ids = []\n",
        "  attention_masks = []\n",
        "\n",
        "  for sent in sentences:    \n",
        "      encoded_dict = tokenizer(\n",
        "                          sent,                      # Sentence to encode.\n",
        "                          #add_special_tokens = True, # Add '[CLS]' and '[SEP]'\n",
        "                          max_length = 100,           # Pad & truncate all sentences.\n",
        "                          #padding=True,\n",
        "                          truncation=True,\n",
        "                          pad_to_max_length = True,\n",
        "                          #return_attention_mask = True,   # Construct attn. masks.\n",
        "                          return_tensors = 'pt',     # Return pytorch tensors.\n",
        "                    )\n",
        "      \n",
        "      # Add the encoded sentence to the list.    \n",
        "      input_ids.append(encoded_dict['input_ids'])\n",
        "      \n",
        "      # And its attention mask (simply differentiates padding from non-padding).\n",
        "      attention_masks.append(encoded_dict['attention_mask'])\n",
        "\n",
        "  # Convert the lists into tensors.\n",
        "  input_ids = torch.cat(input_ids, dim=0)\n",
        "  attention_masks = torch.cat(attention_masks, dim=0)\n",
        "  labels = torch.tensor(labels) - 1\n",
        "\n",
        "  dataset = TensorDataset(input_ids, attention_masks, labels)\n",
        "  # Print sentence 0, now as a list of IDs.\n",
        "  #print('Original: ', sentences[0])\n",
        "  #print('Token IDs:', input_ids[0])\n",
        "\n",
        "  return dataset"
      ],
      "metadata": {
        "id": "tq1Htud99fSc"
      },
      "execution_count": null,
      "outputs": []
    },
    {
      "cell_type": "markdown",
      "source": [
        "###Data loader"
      ],
      "metadata": {
        "id": "neDxVr7o9sWZ"
      }
    },
    {
      "cell_type": "code",
      "source": [
        "def get_data_loaders(train_dataset, val_dataset, batch_size = 8):\n",
        "  # batch_size = 32\n",
        "\n",
        "  # Create the DataLoaders for our training and validation sets.\n",
        "  # We'll take training samples in random order. \n",
        "  train_dataloader = DataLoader(\n",
        "              train_dataset,  # The training samples.\n",
        "              sampler = RandomSampler(train_dataset), # Select batches randomly\n",
        "              batch_size = batch_size # Trains with this batch size.\n",
        "          )\n",
        "\n",
        "  # For validation the order doesn't matter, so we'll just read them sequentially.\n",
        "  validation_dataloader = DataLoader(\n",
        "              val_dataset, # The validation samples.\n",
        "              sampler = SequentialSampler(val_dataset), # Pull out batches sequentially.\n",
        "              batch_size = batch_size # Evaluate with this batch size.\n",
        "          )\n",
        "  return train_dataloader, validation_dataloader"
      ],
      "metadata": {
        "id": "91uoY2IV9uNq"
      },
      "execution_count": null,
      "outputs": []
    },
    {
      "cell_type": "markdown",
      "source": [
        "###LR scheduler"
      ],
      "metadata": {
        "id": "uwNXC4K29xou"
      }
    },
    {
      "cell_type": "code",
      "source": [
        "def get_lr_scheduler(train_dataloader, optimizer, epochs):\n",
        "\n",
        "  # Total number of training steps is [number of batches] x [number of epochs]. \n",
        "  # (Note that this is not the same as the number of training samples).\n",
        "  total_steps = len(train_dataloader) * epochs\n",
        "\n",
        "  # Create the learning rate scheduler.\n",
        "  scheduler = get_linear_schedule_with_warmup(optimizer, \n",
        "                                              num_warmup_steps = 0, \n",
        "                                              num_training_steps = total_steps)\n",
        "  return scheduler"
      ],
      "metadata": {
        "id": "vntu0_ya90DB"
      },
      "execution_count": null,
      "outputs": []
    },
    {
      "cell_type": "markdown",
      "source": [
        "###Calculate accuracy"
      ],
      "metadata": {
        "id": "K1cvey42943U"
      }
    },
    {
      "cell_type": "code",
      "source": [
        "def flat_accuracy(preds, labels):\n",
        "    pred_flat = np.argmax(preds, axis=1).flatten()\n",
        "    labels_flat = labels.flatten()\n",
        "    return np.sum(pred_flat == labels_flat) / len(labels_flat)"
      ],
      "metadata": {
        "id": "aSX0rPjf97SA"
      },
      "execution_count": null,
      "outputs": []
    },
    {
      "cell_type": "markdown",
      "source": [
        "###Format info"
      ],
      "metadata": {
        "id": "NOCw6trH98vE"
      }
    },
    {
      "cell_type": "code",
      "source": [
        "def format_time(elapsed):\n",
        "    '''\n",
        "    Takes a time in seconds and returns a string hh:mm:ss\n",
        "    '''\n",
        "    elapsed_rounded = int(round((elapsed)))\n",
        "    \n",
        "    # Format as hh:mm:ss\n",
        "    return str(datetime.timedelta(seconds=elapsed_rounded))"
      ],
      "metadata": {
        "id": "LDg-5Fw29-2i"
      },
      "execution_count": null,
      "outputs": []
    },
    {
      "cell_type": "code",
      "source": [
        "def format_training_stats(training_stats):\n",
        "  # Display floats with two decimal places.\n",
        "  pd.set_option('precision', 2)\n",
        "  df_stats = pd.DataFrame(data=training_stats)\n",
        "  df_stats = df_stats.set_index('epoch')\n",
        "\n",
        "  return df_stats"
      ],
      "metadata": {
        "id": "2wtAweAnczGY"
      },
      "execution_count": null,
      "outputs": []
    },
    {
      "cell_type": "code",
      "source": [
        "def format_training_stats(training_stats):\n",
        "  # Display floats with two decimal places.\n",
        "  pd.set_option('precision', 2)\n",
        "  df_stats = pd.DataFrame(data=training_stats)\n",
        "  df_stats = df_stats.set_index('epoch')\n",
        "\n",
        "  return df_stats"
      ],
      "metadata": {
        "id": "V57_hyTe-IYI"
      },
      "execution_count": null,
      "outputs": []
    },
    {
      "cell_type": "code",
      "source": [
        "import matplotlib.pyplot as plt\n",
        "% matplotlib inline\n",
        "\n",
        "import seaborn as sns\n",
        "\n",
        "sns.set(style='darkgrid')\n",
        "sns.set(font_scale=1.5)\n",
        "\n",
        "def plot_traing_val_loss(df_stats):\n",
        "  plt.rcParams[\"figure.figsize\"] = (12,6)\n",
        "\n",
        "  # Plot the learning curve.\n",
        "  plt.plot(df_stats['Training Loss'], 'b-o', label=\"Training\")\n",
        "  plt.plot(df_stats['Valid. Loss'], 'g-o', label=\"Validation\")\n",
        "\n",
        "  # Label the plot.\n",
        "  plt.title(\"Training & Validation Loss\")\n",
        "  plt.xlabel(\"Epoch\")\n",
        "  plt.ylabel(\"Loss\")\n",
        "  plt.legend()\n",
        "  plt.xticks([1, 2, 3, 4, 5])\n",
        "\n",
        "  plt.show()"
      ],
      "metadata": {
        "id": "hjqSRM71-K_I"
      },
      "execution_count": null,
      "outputs": []
    },
    {
      "cell_type": "markdown",
      "source": [
        "###Model setup"
      ],
      "metadata": {
        "id": "hkmPa2pd-oOl"
      }
    },
    {
      "cell_type": "code",
      "source": [
        "# Load the tokenizer. \n",
        "tokenizer = XLMRobertaTokenizer.from_pretrained(\"xlm-roberta-base\", do_lower_case=True)\n",
        "# Load the model.\n",
        "# XLMRobertaModel\n",
        "model = XLMRobertaForSequenceClassification.from_pretrained(\n",
        "    \"xlm-roberta-base\", \n",
        "    num_labels = 5, \n",
        "    output_attentions = False, # Whether the model returns attentions weights.\n",
        "    output_hidden_states = False, # Whether the model returns all hidden-states.\n",
        ")\n",
        "# run this model on the GPU.\n",
        "model.cuda()\n",
        "print('done')"
      ],
      "metadata": {
        "colab": {
          "base_uri": "https://localhost:8080/",
          "referenced_widgets": [
            "8ff5557ed1104b799acc13301ad9a9e9",
            "702acf0aed9d4ab3ba204545ffbd4197",
            "c46b295f30a14b4795ac008c5237f29d",
            "5006c904b85843c58cd5ef421e2acdfc",
            "8741a8d7d6d04641ac7699b8f64ee8a7",
            "6c2f563556224dcfb1d7d87ad289c0e4",
            "b97008eb318d43d98994f6bc112826f3",
            "d294de1205a142a398da1a1ae641b1b9",
            "d7eb8b3325cd4106833673f8385b2a25",
            "8292621fd7f448ed9cfb3fd961d4b206",
            "24cc075c7bcc4c98bec5df1459aade2b",
            "9807bd44dbb24ecebdca99364391ff78",
            "11362ccf1e4c47ee8e3be97d51788297",
            "51cdb4cfd7254d939f7b34b39000394e",
            "e8b23c45758343cbbe7d1b1101ce876f",
            "c6d4839f253c419781649d3c2b8cfcaf",
            "63fb710b282f4a91880bbbe67b053787",
            "15abda6c9a8841fda46ef6b7eccfd05b",
            "3370faead3d9439d8a3e2b587b55e71c",
            "2b7173d60f5e4758872fbbf3afec596a",
            "0e16f5c733d64ce38cfdf8cee45f8fb7",
            "645987c7e5664ab89c6573d9ce43c2ce",
            "94542b8b0d1148c1b082044d7c040e55",
            "6d0b5e5f9ac04414862bd737efbee833",
            "5d7b7e5578804ddfa56a5ff8868f3f7e",
            "8b6d9da7bfa8405bbeb5697b8bcbf7b1",
            "9e6b4182c38a45ffbb950d3aa51a2d54",
            "e98343d4665a4073be65df785f1b0320",
            "a5a8475c9b69435989f7c425e8796d43",
            "87f2de3f912a4e01a7ae3d8654164f1d",
            "4e5851f869b74f92aac93b40b5526894",
            "d4790a66df3048ad9c6606dceacff6d3",
            "ec710a661aa0444fb69d726ce664594d",
            "dc5ffae8385d4ced97c8a187e74f7f3a",
            "b08c407d39594c6eaa9e6d3c8f30fe1d",
            "1140a1454604425b9bf9961c12c3bd16",
            "25cc860aceda46cd98f7ee63cdac6eaa",
            "a2058af28736476fa8186730f66a07fe",
            "f6d54c59b61d4c0eb8ddce3be0fca3ab",
            "91b27bca62414e7386c7f2ad4ae1d5f2",
            "ce1dd7269d124724a67e95fb7406e965",
            "d070713a22304fa1b4b2517048fdb84b",
            "a2ac34940b88499f99a6dd5afb6621f1",
            "8824295a22cb4b9e871d26d954f6661a"
          ],
          "height": 269
        },
        "id": "411-1Dz--uXu",
        "outputId": "d6d19acf-e483-441a-c3e6-842045d7b46c"
      },
      "execution_count": null,
      "outputs": [
        {
          "output_type": "display_data",
          "data": {
            "application/vnd.jupyter.widget-view+json": {
              "model_id": "8ff5557ed1104b799acc13301ad9a9e9",
              "version_minor": 0,
              "version_major": 2
            },
            "text/plain": [
              "Downloading:   0%|          | 0.00/4.83M [00:00<?, ?B/s]"
            ]
          },
          "metadata": {}
        },
        {
          "output_type": "display_data",
          "data": {
            "application/vnd.jupyter.widget-view+json": {
              "model_id": "9807bd44dbb24ecebdca99364391ff78",
              "version_minor": 0,
              "version_major": 2
            },
            "text/plain": [
              "Downloading:   0%|          | 0.00/8.68M [00:00<?, ?B/s]"
            ]
          },
          "metadata": {}
        },
        {
          "output_type": "display_data",
          "data": {
            "application/vnd.jupyter.widget-view+json": {
              "model_id": "94542b8b0d1148c1b082044d7c040e55",
              "version_minor": 0,
              "version_major": 2
            },
            "text/plain": [
              "Downloading:   0%|          | 0.00/512 [00:00<?, ?B/s]"
            ]
          },
          "metadata": {}
        },
        {
          "output_type": "display_data",
          "data": {
            "application/vnd.jupyter.widget-view+json": {
              "model_id": "dc5ffae8385d4ced97c8a187e74f7f3a",
              "version_minor": 0,
              "version_major": 2
            },
            "text/plain": [
              "Downloading:   0%|          | 0.00/1.04G [00:00<?, ?B/s]"
            ]
          },
          "metadata": {}
        },
        {
          "output_type": "stream",
          "name": "stderr",
          "text": [
            "Some weights of the model checkpoint at xlm-roberta-base were not used when initializing XLMRobertaForSequenceClassification: ['lm_head.dense.weight', 'lm_head.layer_norm.bias', 'lm_head.dense.bias', 'lm_head.bias', 'roberta.pooler.dense.bias', 'lm_head.layer_norm.weight', 'lm_head.decoder.weight', 'roberta.pooler.dense.weight']\n",
            "- This IS expected if you are initializing XLMRobertaForSequenceClassification from the checkpoint of a model trained on another task or with another architecture (e.g. initializing a BertForSequenceClassification model from a BertForPreTraining model).\n",
            "- This IS NOT expected if you are initializing XLMRobertaForSequenceClassification from the checkpoint of a model that you expect to be exactly identical (initializing a BertForSequenceClassification model from a BertForSequenceClassification model).\n",
            "Some weights of XLMRobertaForSequenceClassification were not initialized from the model checkpoint at xlm-roberta-base and are newly initialized: ['classifier.out_proj.weight', 'classifier.out_proj.bias', 'classifier.dense.bias', 'classifier.dense.weight']\n",
            "You should probably TRAIN this model on a down-stream task to be able to use it for predictions and inference.\n"
          ]
        },
        {
          "output_type": "stream",
          "name": "stdout",
          "text": [
            "done\n"
          ]
        }
      ]
    },
    {
      "cell_type": "markdown",
      "source": [
        "###Training functions"
      ],
      "metadata": {
        "id": "UHfynPD7-F1H"
      }
    },
    {
      "cell_type": "code",
      "source": [
        "def train(model, epochs, train_dataloader, validation_dataloader, scheduler, optimizer, seed_val=22):\n",
        "  random.seed(seed_val)\n",
        "  np.random.seed(seed_val)\n",
        "  torch.manual_seed(seed_val)\n",
        "  torch.cuda.manual_seed_all(seed_val)\n",
        "\n",
        "  # We'll store a number of quantities such as training and validation loss, \n",
        "  # validation accuracy, and timings.\n",
        "  training_stats = []\n",
        "\n",
        "  # Measure the total training time for the whole run.\n",
        "  total_t0 = time.time()\n",
        "\n",
        "  # For each epoch...\n",
        "  for epoch_i in range(0, epochs):\n",
        "      \n",
        "      # ========================================\n",
        "      #               Training\n",
        "      # ========================================\n",
        "\n",
        "      print(\"\")\n",
        "      print('================ Epoch {:} / {:} ================'.format(epoch_i + 1, epochs))\n",
        "      print('Training...')\n",
        "\n",
        "      # Measure how long the training epoch takes.\n",
        "      t0 = time.time()\n",
        "\n",
        "      # Reset the total loss for this epoch.\n",
        "      total_train_loss = 0\n",
        "\n",
        "      model.train()\n",
        "\n",
        "      # For each batch of training data...\n",
        "      for step, batch in enumerate(train_dataloader):\n",
        "\n",
        "          # Unpack this training batch from our dataloader. \n",
        "          #\n",
        "          # copy each tensor to the GPU \n",
        "          #\n",
        "          # `batch` contains three pytorch tensors:\n",
        "          #   [0]: input ids \n",
        "          #   [1]: attention masks\n",
        "          #   [2]: labels \n",
        "          b_input_ids = batch[0].to(device)\n",
        "          b_input_mask = batch[1].to(device)\n",
        "          b_labels = batch[2].to(device)\n",
        "\n",
        "          model.zero_grad()        \n",
        "\n",
        "          # Specifically, we'll get the loss (because we provided labels) and the\n",
        "          # \"logits\"--the model outputs prior to activation.\n",
        "          result = model(b_input_ids, \n",
        "                        #token_type_ids=None, \n",
        "                        attention_mask=b_input_mask, \n",
        "                        labels=b_labels,\n",
        "                        return_dict=True)\n",
        "\n",
        "          loss = result.loss\n",
        "          logits = result.logits\n",
        "\n",
        "          # Progress update every 200 batches.\n",
        "          if step % 200 == 0 and not step == 0:\n",
        "              # Calculate elapsed time in minutes.\n",
        "              elapsed = format_time(time.time() - t0)\n",
        "              \n",
        "              print('  Batch {:>5,}  of  {:>5,}.  Time elapsed: {:}.  Loss: {}'.format(step, len(train_dataloader), elapsed, loss.item()))\n",
        "\n",
        "          # Accumulate the training loss over all of the batches so that we can\n",
        "          # calculate the average loss at the end. `loss` is a Tensor containing a\n",
        "          # single value; the `.item()` function just returns the Python value \n",
        "          # from the tensor.\n",
        "          total_train_loss += loss.item()\n",
        "\n",
        "          loss.backward()\n",
        "\n",
        "          # Clip the norm of the gradients to 1.0.\n",
        "          # This is to help prevent the \"exploding gradients\" problem.\n",
        "          torch.nn.utils.clip_grad_norm_(model.parameters(), 1.0)\n",
        "\n",
        "          optimizer.step()\n",
        "          # Update the learning rate.\n",
        "          scheduler.step()\n",
        "\n",
        "      # Calculate the average loss over all of the batches.\n",
        "      avg_train_loss = total_train_loss / len(train_dataloader)            \n",
        "      \n",
        "      # how long this epoch took.\n",
        "      training_time = format_time(time.time() - t0)\n",
        "\n",
        "      print(\"\")\n",
        "      print(\"  Average training loss: {0:.2f}\".format(avg_train_loss))\n",
        "      print(\"  Training epoch took: {:}\".format(training_time))\n",
        "          \n",
        "      # ========================================\n",
        "      #               Validation\n",
        "      # ========================================\n",
        "\n",
        "      print(\"\")\n",
        "      print(\"Running Validation...\")\n",
        "\n",
        "      t0 = time.time()\n",
        "\n",
        "      # Put the model in evaluation mode--the dropout layers behave differently\n",
        "      # during evaluation.\n",
        "      model.eval()\n",
        "\n",
        "      # Tracking variables \n",
        "      total_eval_accuracy = 0\n",
        "      total_eval_loss = 0\n",
        "      nb_eval_steps = 0\n",
        "\n",
        "      for batch in validation_dataloader:\n",
        "          b_input_ids = batch[0].to(device)\n",
        "          b_input_mask = batch[1].to(device)\n",
        "          b_labels = batch[2].to(device)\n",
        "          \n",
        "          with torch.no_grad():        \n",
        "\n",
        "              # Forward pass, calculate logit predictions.\n",
        "              # token_type_ids is the same as the \"segment ids\", which \n",
        "              # differentiates sentence 1 and 2 in 2-sentence tasks.\n",
        "              result = model(b_input_ids, \n",
        "                            token_type_ids=None, \n",
        "                            attention_mask=b_input_mask,\n",
        "                            labels=b_labels,\n",
        "                            return_dict=True)\n",
        "\n",
        "          loss = result.loss\n",
        "          logits = result.logits\n",
        "\n",
        "          total_eval_loss += loss.item()\n",
        "\n",
        "          logits = logits.detach().cpu().numpy()\n",
        "          label_ids = b_labels.to('cpu').numpy()\n",
        "\n",
        "          total_eval_accuracy += flat_accuracy(logits, label_ids)\n",
        "          \n",
        "\n",
        "      # Report the final accuracy for this validation run.\n",
        "      avg_val_accuracy = total_eval_accuracy / len(validation_dataloader)\n",
        "      print(\"  Accuracy: {0:.2f}\".format(avg_val_accuracy))\n",
        "\n",
        "      # average loss over all of the batches.\n",
        "      avg_val_loss = total_eval_loss / len(validation_dataloader)\n",
        "      \n",
        "      validation_time = format_time(time.time() - t0)\n",
        "      \n",
        "      print(\"  Validation Loss: {0:.2f}\".format(avg_val_loss))\n",
        "      print(\"  Validation took: {:}\".format(validation_time))\n",
        "\n",
        "      # Record all statistics from this epoch.\n",
        "      training_stats.append(\n",
        "          {\n",
        "              'epoch': epoch_i + 1,\n",
        "              'Training Loss': avg_train_loss,\n",
        "              'Valid. Loss': avg_val_loss,\n",
        "              'Valid. Accur.': avg_val_accuracy,\n",
        "              'Training Time': training_time,\n",
        "              'Validation Time': validation_time\n",
        "          }\n",
        "      )\n",
        "\n",
        "  print(\"\")\n",
        "  print(\"Training complete!\")\n",
        "\n",
        "  print(\"Total training took {:} (h:mm:ss)\".format(format_time(time.time()-total_t0)))\n",
        "  return training_stats"
      ],
      "metadata": {
        "id": "XStRytCM-Hio"
      },
      "execution_count": null,
      "outputs": []
    },
    {
      "cell_type": "markdown",
      "source": [
        "##Train and validate on the source language"
      ],
      "metadata": {
        "id": "FL-fNdoOtLrp"
      }
    },
    {
      "cell_type": "code",
      "source": [
        "def train_val(train_df, val_df, model=model, epochs=30, tokenizer=tokenizer):\n",
        "  train_sentences = train_df['review_body'].values\n",
        "  train_labels = train_df['stars'].values\n",
        "  train_dataset = tokenize_sentences(train_sentences, train_labels, tokenizer)\n",
        "\n",
        "  val_sentences = val_df['review_body'].values\n",
        "  val_labels = val_df['stars'].values \n",
        "  val_dataset = tokenize_sentences(val_sentences, val_labels, tokenizer)\n",
        "\n",
        "  train_dataloader, validation_dataloader = get_data_loaders(train_dataset, val_dataset)\n",
        "  optimizer = AdamW(model.parameters(),\n",
        "                  lr = 8e-7, # as suggested\n",
        "                  eps = 1e-8 # args.adam_epsilon  - default is 1e-8.\n",
        "                )\n",
        "  scheduler = get_lr_scheduler(train_dataloader, optimizer, epochs)\n",
        "  training_stats = train(model, epochs, train_dataloader, validation_dataloader, scheduler, optimizer, seed_val=22)\n",
        "\n",
        "  return training_stats"
      ],
      "metadata": {
        "id": "ING30Mrss9v_"
      },
      "execution_count": null,
      "outputs": []
    },
    {
      "cell_type": "markdown",
      "source": [
        "##Test on all languages"
      ],
      "metadata": {
        "id": "Adur2ury1FdV"
      }
    },
    {
      "cell_type": "code",
      "source": [
        "from sklearn.metrics import mean_absolute_error\n",
        "def test(test_df, model=model, tokenizer=tokenizer):\n",
        "  test_sentences = test_df['review_body'].values\n",
        "  test_labels = test_df['stars'].values\n",
        "  test_dataset = tokenize_sentences(test_sentences, test_labels, tokenizer)\n",
        "\n",
        "  prediction_sampler = SequentialSampler(test_dataset)\n",
        "  prediction_dataloader = DataLoader(test_dataset, sampler=prediction_sampler, batch_size=32)\n",
        "\n",
        "  # Prediction on test set\n",
        "\n",
        "  # print('Predicting labels for {:,} test sentences...'.format(len(input_ids)))\n",
        "\n",
        "  # Put model in evaluation mode\n",
        "  model.eval()\n",
        "\n",
        "  # Tracking variables \n",
        "  predictions , true_labels = [], []\n",
        "\n",
        "  # Predict \n",
        "  for batch in prediction_dataloader:\n",
        "    # Add batch to GPU\n",
        "    batch = tuple(t.to(device) for t in batch)\n",
        "    \n",
        "    # Unpack the inputs from our dataloader\n",
        "    b_input_ids, b_input_mask, b_labels = batch\n",
        "    \n",
        "    # Telling the model not to compute or store gradients, saving memory and \n",
        "    # speeding up prediction\n",
        "    with torch.no_grad():\n",
        "        # Forward pass, calculate logit predictions.\n",
        "        result = model(b_input_ids, \n",
        "                      token_type_ids=None, \n",
        "                      attention_mask=b_input_mask,\n",
        "                      return_dict=True)\n",
        "    # print(result)\n",
        "    logits = result.logits\n",
        "\n",
        "    # Move logits and labels to CPU\n",
        "    logits = logits.detach().cpu().numpy()\n",
        "    label_ids = b_labels.to('cpu').numpy()\n",
        "    \n",
        "    # Store predictions and true labels\n",
        "    predictions.append(logits)\n",
        "    true_labels.append(label_ids)\n",
        "\n",
        "  flat_predictions = np.concatenate(predictions, axis=0)\n",
        "  # For each sample, pick the label with the higher score.\n",
        "  flat_predictions = np.argmax(flat_predictions, axis=1).flatten()\n",
        "  # Combine the correct labels for each batch into a single list.\n",
        "  flat_true_labels = np.concatenate(true_labels, axis=0)\n",
        "  acc = np.sum(flat_predictions == flat_true_labels) / len(flat_true_labels)\n",
        "  mae = mean_absolute_error(flat_true_labels, flat_predictions)\n",
        "\n",
        "  print(str('Test accuracy: {:04.4f}'.format(acc*100))+'%')\n",
        "  print('Mean absoute error is: {:04.4f}'.format(mae))\n",
        "\n",
        "  #return predictions , true_labels"
      ],
      "metadata": {
        "id": "KBoP_zPP1ITp"
      },
      "execution_count": null,
      "outputs": []
    },
    {
      "cell_type": "markdown",
      "source": [
        "#Main (Source language: Spanish)"
      ],
      "metadata": {
        "id": "YfBtUadnBuDH"
      }
    },
    {
      "cell_type": "code",
      "source": [
        "!git clone https://github.com/xyyzh/NLP_final_project.git"
      ],
      "metadata": {
        "colab": {
          "base_uri": "https://localhost:8080/"
        },
        "id": "x0xqMCiDBvbx",
        "outputId": "e53cc446-8718-49ff-acac-8aca7982a9f4"
      },
      "execution_count": null,
      "outputs": [
        {
          "output_type": "stream",
          "name": "stdout",
          "text": [
            "Cloning into 'NLP_final_project'...\n",
            "remote: Enumerating objects: 57, done.\u001b[K\n",
            "remote: Total 57 (delta 0), reused 0 (delta 0), pack-reused 57\u001b[K\n",
            "Unpacking objects: 100% (57/57), done.\n",
            "Checking out files: 100% (28/28), done.\n"
          ]
        }
      ]
    },
    {
      "cell_type": "markdown",
      "source": [
        "##Train and validate"
      ],
      "metadata": {
        "id": "J-IjwATTqMUk"
      }
    },
    {
      "cell_type": "code",
      "source": [
        "#!cd NLP_final_project/train/\n",
        "train_df = pd.read_json(\"NLP_final_project/train/dataset_es_train_trimmed.json\", lines=True)\n",
        "val_df = pd.read_json(\"NLP_final_project/val/dataset_es_dev.json\", lines=True)"
      ],
      "metadata": {
        "id": "TdGDVy8_BzGf"
      },
      "execution_count": null,
      "outputs": []
    },
    {
      "cell_type": "code",
      "source": [
        "training_stats = train_val(train_df, val_df, model=model, tokenizer=tokenizer, epochs=5)"
      ],
      "metadata": {
        "colab": {
          "base_uri": "https://localhost:8080/"
        },
        "id": "rwWP2lpl0faf",
        "outputId": "158b80d0-97aa-45fb-cb34-47b216880235"
      },
      "execution_count": null,
      "outputs": [
        {
          "output_type": "stream",
          "name": "stderr",
          "text": [
            "/usr/local/lib/python3.7/dist-packages/transformers/tokenization_utils_base.py:2227: FutureWarning: The `pad_to_max_length` argument is deprecated and will be removed in a future version, use `padding=True` or `padding='longest'` to pad to the longest sequence in the batch, or use `padding='max_length'` to pad to a max length. In this case, you can give a specific length with `max_length` (e.g. `max_length=45`) or leave max_length to None to pad to the maximal input size of the model (e.g. 512 for Bert).\n",
            "  FutureWarning,\n"
          ]
        },
        {
          "output_type": "stream",
          "name": "stdout",
          "text": [
            "\n",
            "================ Epoch 1 / 5 ================\n",
            "Training...\n",
            "  Batch   200  of  3,125.  Time elapsed: 0:00:42.  Loss: 1.5758121013641357\n",
            "  Batch   400  of  3,125.  Time elapsed: 0:01:23.  Loss: 1.6196906566619873\n",
            "  Batch   600  of  3,125.  Time elapsed: 0:02:03.  Loss: 1.6378240585327148\n",
            "  Batch   800  of  3,125.  Time elapsed: 0:02:43.  Loss: 1.6000922918319702\n",
            "  Batch 1,000  of  3,125.  Time elapsed: 0:03:24.  Loss: 1.5111545324325562\n",
            "  Batch 1,200  of  3,125.  Time elapsed: 0:04:05.  Loss: 1.5144709348678589\n",
            "  Batch 1,400  of  3,125.  Time elapsed: 0:04:45.  Loss: 1.3945125341415405\n",
            "  Batch 1,600  of  3,125.  Time elapsed: 0:05:26.  Loss: 1.7212615013122559\n",
            "  Batch 1,800  of  3,125.  Time elapsed: 0:06:06.  Loss: 1.4182788133621216\n",
            "  Batch 2,000  of  3,125.  Time elapsed: 0:06:47.  Loss: 1.16611647605896\n",
            "  Batch 2,200  of  3,125.  Time elapsed: 0:07:27.  Loss: 1.291136384010315\n",
            "  Batch 2,400  of  3,125.  Time elapsed: 0:08:08.  Loss: 1.487607717514038\n",
            "  Batch 2,600  of  3,125.  Time elapsed: 0:08:48.  Loss: 1.3166860342025757\n",
            "  Batch 2,800  of  3,125.  Time elapsed: 0:09:29.  Loss: 1.547898292541504\n",
            "  Batch 3,000  of  3,125.  Time elapsed: 0:10:10.  Loss: 1.0462876558303833\n",
            "\n",
            "  Average training loss: 1.44\n",
            "  Training epoch took: 0:10:35\n",
            "\n",
            "Running Validation...\n",
            "  Accuracy: 0.49\n",
            "  Validation Loss: 1.17\n",
            "  Validation took: 0:00:26\n",
            "\n",
            "================ Epoch 2 / 5 ================\n",
            "Training...\n",
            "  Batch   200  of  3,125.  Time elapsed: 0:00:41.  Loss: 1.410030722618103\n",
            "  Batch   400  of  3,125.  Time elapsed: 0:01:21.  Loss: 1.3762872219085693\n",
            "  Batch   600  of  3,125.  Time elapsed: 0:02:02.  Loss: 0.9969539642333984\n",
            "  Batch   800  of  3,125.  Time elapsed: 0:02:42.  Loss: 1.7555171251296997\n",
            "  Batch 1,000  of  3,125.  Time elapsed: 0:03:23.  Loss: 0.8012413382530212\n",
            "  Batch 1,200  of  3,125.  Time elapsed: 0:04:04.  Loss: 1.1481677293777466\n",
            "  Batch 1,400  of  3,125.  Time elapsed: 0:04:44.  Loss: 0.8809904456138611\n",
            "  Batch 1,600  of  3,125.  Time elapsed: 0:05:25.  Loss: 1.3419359922409058\n",
            "  Batch 1,800  of  3,125.  Time elapsed: 0:06:05.  Loss: 1.0680545568466187\n",
            "  Batch 2,000  of  3,125.  Time elapsed: 0:06:46.  Loss: 1.0752830505371094\n",
            "  Batch 2,200  of  3,125.  Time elapsed: 0:07:27.  Loss: 1.1077125072479248\n",
            "  Batch 2,400  of  3,125.  Time elapsed: 0:08:07.  Loss: 1.0283480882644653\n",
            "  Batch 2,600  of  3,125.  Time elapsed: 0:08:48.  Loss: 1.237846851348877\n",
            "  Batch 2,800  of  3,125.  Time elapsed: 0:09:28.  Loss: 1.1302433013916016\n",
            "  Batch 3,000  of  3,125.  Time elapsed: 0:10:09.  Loss: 0.7881593704223633\n",
            "\n",
            "  Average training loss: 1.15\n",
            "  Training epoch took: 0:10:34\n",
            "\n",
            "Running Validation...\n",
            "  Accuracy: 0.51\n",
            "  Validation Loss: 1.10\n",
            "  Validation took: 0:00:26\n",
            "\n",
            "================ Epoch 3 / 5 ================\n",
            "Training...\n",
            "  Batch   200  of  3,125.  Time elapsed: 0:00:41.  Loss: 1.3128340244293213\n",
            "  Batch   400  of  3,125.  Time elapsed: 0:01:21.  Loss: 0.9789894223213196\n",
            "  Batch   600  of  3,125.  Time elapsed: 0:02:02.  Loss: 0.9358288049697876\n",
            "  Batch   800  of  3,125.  Time elapsed: 0:02:43.  Loss: 1.1672704219818115\n",
            "  Batch 1,000  of  3,125.  Time elapsed: 0:03:23.  Loss: 1.3332128524780273\n",
            "  Batch 1,200  of  3,125.  Time elapsed: 0:04:04.  Loss: 0.9183639883995056\n",
            "  Batch 1,400  of  3,125.  Time elapsed: 0:04:44.  Loss: 0.8041284680366516\n",
            "  Batch 1,600  of  3,125.  Time elapsed: 0:05:25.  Loss: 0.9998451471328735\n",
            "  Batch 1,800  of  3,125.  Time elapsed: 0:06:06.  Loss: 0.9095874428749084\n",
            "  Batch 2,000  of  3,125.  Time elapsed: 0:06:46.  Loss: 1.0018079280853271\n",
            "  Batch 2,200  of  3,125.  Time elapsed: 0:07:27.  Loss: 1.102610468864441\n",
            "  Batch 2,400  of  3,125.  Time elapsed: 0:08:08.  Loss: 1.041103482246399\n",
            "  Batch 2,600  of  3,125.  Time elapsed: 0:08:48.  Loss: 1.045188546180725\n",
            "  Batch 2,800  of  3,125.  Time elapsed: 0:09:29.  Loss: 1.074051856994629\n",
            "  Batch 3,000  of  3,125.  Time elapsed: 0:10:10.  Loss: 1.0748374462127686\n",
            "\n",
            "  Average training loss: 1.09\n",
            "  Training epoch took: 0:10:35\n",
            "\n",
            "Running Validation...\n",
            "  Accuracy: 0.53\n",
            "  Validation Loss: 1.08\n",
            "  Validation took: 0:00:26\n",
            "\n",
            "================ Epoch 4 / 5 ================\n",
            "Training...\n",
            "  Batch   200  of  3,125.  Time elapsed: 0:00:41.  Loss: 1.0989693403244019\n",
            "  Batch   400  of  3,125.  Time elapsed: 0:01:21.  Loss: 1.7374579906463623\n",
            "  Batch   600  of  3,125.  Time elapsed: 0:02:02.  Loss: 0.9075486063957214\n",
            "  Batch   800  of  3,125.  Time elapsed: 0:02:43.  Loss: 1.4375110864639282\n",
            "  Batch 1,000  of  3,125.  Time elapsed: 0:03:23.  Loss: 0.888911783695221\n",
            "  Batch 1,200  of  3,125.  Time elapsed: 0:04:04.  Loss: 0.9155040383338928\n",
            "  Batch 1,400  of  3,125.  Time elapsed: 0:04:44.  Loss: 1.2737140655517578\n",
            "  Batch 1,600  of  3,125.  Time elapsed: 0:05:25.  Loss: 0.6925729513168335\n",
            "  Batch 1,800  of  3,125.  Time elapsed: 0:06:06.  Loss: 0.7938202619552612\n",
            "  Batch 2,000  of  3,125.  Time elapsed: 0:06:47.  Loss: 1.0418298244476318\n",
            "  Batch 2,200  of  3,125.  Time elapsed: 0:07:28.  Loss: 1.2059606313705444\n",
            "  Batch 2,400  of  3,125.  Time elapsed: 0:08:08.  Loss: 1.057130217552185\n",
            "  Batch 2,600  of  3,125.  Time elapsed: 0:08:49.  Loss: 1.1808671951293945\n",
            "  Batch 2,800  of  3,125.  Time elapsed: 0:09:30.  Loss: 1.353431224822998\n",
            "  Batch 3,000  of  3,125.  Time elapsed: 0:10:10.  Loss: 0.4890573024749756\n",
            "\n",
            "  Average training loss: 1.07\n",
            "  Training epoch took: 0:10:36\n",
            "\n",
            "Running Validation...\n",
            "  Accuracy: 0.53\n",
            "  Validation Loss: 1.08\n",
            "  Validation took: 0:00:26\n",
            "\n",
            "================ Epoch 5 / 5 ================\n",
            "Training...\n",
            "  Batch   200  of  3,125.  Time elapsed: 0:00:41.  Loss: 0.8191350102424622\n",
            "  Batch   400  of  3,125.  Time elapsed: 0:01:22.  Loss: 0.956071674823761\n",
            "  Batch   600  of  3,125.  Time elapsed: 0:02:03.  Loss: 1.2422919273376465\n",
            "  Batch   800  of  3,125.  Time elapsed: 0:02:44.  Loss: 1.0129541158676147\n",
            "  Batch 1,000  of  3,125.  Time elapsed: 0:03:24.  Loss: 0.773724377155304\n",
            "  Batch 1,200  of  3,125.  Time elapsed: 0:04:05.  Loss: 1.0671261548995972\n",
            "  Batch 1,400  of  3,125.  Time elapsed: 0:04:45.  Loss: 1.3323206901550293\n",
            "  Batch 1,600  of  3,125.  Time elapsed: 0:05:26.  Loss: 0.827311635017395\n",
            "  Batch 1,800  of  3,125.  Time elapsed: 0:06:07.  Loss: 1.2757863998413086\n",
            "  Batch 2,000  of  3,125.  Time elapsed: 0:06:48.  Loss: 1.0342402458190918\n",
            "  Batch 2,200  of  3,125.  Time elapsed: 0:07:29.  Loss: 0.8570607900619507\n",
            "  Batch 2,400  of  3,125.  Time elapsed: 0:08:09.  Loss: 0.7871392369270325\n",
            "  Batch 2,600  of  3,125.  Time elapsed: 0:08:50.  Loss: 2.022156238555908\n",
            "  Batch 2,800  of  3,125.  Time elapsed: 0:09:31.  Loss: 1.1698683500289917\n",
            "  Batch 3,000  of  3,125.  Time elapsed: 0:10:11.  Loss: 1.1407607793807983\n",
            "\n",
            "  Average training loss: 1.05\n",
            "  Training epoch took: 0:10:37\n",
            "\n",
            "Running Validation...\n",
            "  Accuracy: 0.53\n",
            "  Validation Loss: 1.08\n",
            "  Validation took: 0:00:26\n",
            "\n",
            "Training complete!\n",
            "Total training took 0:55:05 (h:mm:ss)\n"
          ]
        }
      ]
    },
    {
      "cell_type": "code",
      "source": [
        "df_stats = format_training_stats(training_stats)\n",
        "df_stats"
      ],
      "metadata": {
        "id": "mOjzcwOAAj9u",
        "colab": {
          "base_uri": "https://localhost:8080/",
          "height": 238
        },
        "outputId": "819541d7-3d03-46ca-e51d-4ffe444d079a"
      },
      "execution_count": null,
      "outputs": [
        {
          "output_type": "execute_result",
          "data": {
            "text/html": [
              "\n",
              "  <div id=\"df-7bc9977e-48e3-4236-9cb0-475dbb1e1868\">\n",
              "    <div class=\"colab-df-container\">\n",
              "      <div>\n",
              "<style scoped>\n",
              "    .dataframe tbody tr th:only-of-type {\n",
              "        vertical-align: middle;\n",
              "    }\n",
              "\n",
              "    .dataframe tbody tr th {\n",
              "        vertical-align: top;\n",
              "    }\n",
              "\n",
              "    .dataframe thead th {\n",
              "        text-align: right;\n",
              "    }\n",
              "</style>\n",
              "<table border=\"1\" class=\"dataframe\">\n",
              "  <thead>\n",
              "    <tr style=\"text-align: right;\">\n",
              "      <th></th>\n",
              "      <th>Training Loss</th>\n",
              "      <th>Valid. Loss</th>\n",
              "      <th>Valid. Accur.</th>\n",
              "      <th>Training Time</th>\n",
              "      <th>Validation Time</th>\n",
              "    </tr>\n",
              "    <tr>\n",
              "      <th>epoch</th>\n",
              "      <th></th>\n",
              "      <th></th>\n",
              "      <th></th>\n",
              "      <th></th>\n",
              "      <th></th>\n",
              "    </tr>\n",
              "  </thead>\n",
              "  <tbody>\n",
              "    <tr>\n",
              "      <th>1</th>\n",
              "      <td>1.44</td>\n",
              "      <td>1.17</td>\n",
              "      <td>0.49</td>\n",
              "      <td>0:10:35</td>\n",
              "      <td>0:00:26</td>\n",
              "    </tr>\n",
              "    <tr>\n",
              "      <th>2</th>\n",
              "      <td>1.15</td>\n",
              "      <td>1.10</td>\n",
              "      <td>0.51</td>\n",
              "      <td>0:10:34</td>\n",
              "      <td>0:00:26</td>\n",
              "    </tr>\n",
              "    <tr>\n",
              "      <th>3</th>\n",
              "      <td>1.09</td>\n",
              "      <td>1.08</td>\n",
              "      <td>0.53</td>\n",
              "      <td>0:10:35</td>\n",
              "      <td>0:00:26</td>\n",
              "    </tr>\n",
              "    <tr>\n",
              "      <th>4</th>\n",
              "      <td>1.07</td>\n",
              "      <td>1.08</td>\n",
              "      <td>0.53</td>\n",
              "      <td>0:10:36</td>\n",
              "      <td>0:00:26</td>\n",
              "    </tr>\n",
              "    <tr>\n",
              "      <th>5</th>\n",
              "      <td>1.05</td>\n",
              "      <td>1.08</td>\n",
              "      <td>0.53</td>\n",
              "      <td>0:10:37</td>\n",
              "      <td>0:00:26</td>\n",
              "    </tr>\n",
              "  </tbody>\n",
              "</table>\n",
              "</div>\n",
              "      <button class=\"colab-df-convert\" onclick=\"convertToInteractive('df-7bc9977e-48e3-4236-9cb0-475dbb1e1868')\"\n",
              "              title=\"Convert this dataframe to an interactive table.\"\n",
              "              style=\"display:none;\">\n",
              "        \n",
              "  <svg xmlns=\"http://www.w3.org/2000/svg\" height=\"24px\"viewBox=\"0 0 24 24\"\n",
              "       width=\"24px\">\n",
              "    <path d=\"M0 0h24v24H0V0z\" fill=\"none\"/>\n",
              "    <path d=\"M18.56 5.44l.94 2.06.94-2.06 2.06-.94-2.06-.94-.94-2.06-.94 2.06-2.06.94zm-11 1L8.5 8.5l.94-2.06 2.06-.94-2.06-.94L8.5 2.5l-.94 2.06-2.06.94zm10 10l.94 2.06.94-2.06 2.06-.94-2.06-.94-.94-2.06-.94 2.06-2.06.94z\"/><path d=\"M17.41 7.96l-1.37-1.37c-.4-.4-.92-.59-1.43-.59-.52 0-1.04.2-1.43.59L10.3 9.45l-7.72 7.72c-.78.78-.78 2.05 0 2.83L4 21.41c.39.39.9.59 1.41.59.51 0 1.02-.2 1.41-.59l7.78-7.78 2.81-2.81c.8-.78.8-2.07 0-2.86zM5.41 20L4 18.59l7.72-7.72 1.47 1.35L5.41 20z\"/>\n",
              "  </svg>\n",
              "      </button>\n",
              "      \n",
              "  <style>\n",
              "    .colab-df-container {\n",
              "      display:flex;\n",
              "      flex-wrap:wrap;\n",
              "      gap: 12px;\n",
              "    }\n",
              "\n",
              "    .colab-df-convert {\n",
              "      background-color: #E8F0FE;\n",
              "      border: none;\n",
              "      border-radius: 50%;\n",
              "      cursor: pointer;\n",
              "      display: none;\n",
              "      fill: #1967D2;\n",
              "      height: 32px;\n",
              "      padding: 0 0 0 0;\n",
              "      width: 32px;\n",
              "    }\n",
              "\n",
              "    .colab-df-convert:hover {\n",
              "      background-color: #E2EBFA;\n",
              "      box-shadow: 0px 1px 2px rgba(60, 64, 67, 0.3), 0px 1px 3px 1px rgba(60, 64, 67, 0.15);\n",
              "      fill: #174EA6;\n",
              "    }\n",
              "\n",
              "    [theme=dark] .colab-df-convert {\n",
              "      background-color: #3B4455;\n",
              "      fill: #D2E3FC;\n",
              "    }\n",
              "\n",
              "    [theme=dark] .colab-df-convert:hover {\n",
              "      background-color: #434B5C;\n",
              "      box-shadow: 0px 1px 3px 1px rgba(0, 0, 0, 0.15);\n",
              "      filter: drop-shadow(0px 1px 2px rgba(0, 0, 0, 0.3));\n",
              "      fill: #FFFFFF;\n",
              "    }\n",
              "  </style>\n",
              "\n",
              "      <script>\n",
              "        const buttonEl =\n",
              "          document.querySelector('#df-7bc9977e-48e3-4236-9cb0-475dbb1e1868 button.colab-df-convert');\n",
              "        buttonEl.style.display =\n",
              "          google.colab.kernel.accessAllowed ? 'block' : 'none';\n",
              "\n",
              "        async function convertToInteractive(key) {\n",
              "          const element = document.querySelector('#df-7bc9977e-48e3-4236-9cb0-475dbb1e1868');\n",
              "          const dataTable =\n",
              "            await google.colab.kernel.invokeFunction('convertToInteractive',\n",
              "                                                     [key], {});\n",
              "          if (!dataTable) return;\n",
              "\n",
              "          const docLinkHtml = 'Like what you see? Visit the ' +\n",
              "            '<a target=\"_blank\" href=https://colab.research.google.com/notebooks/data_table.ipynb>data table notebook</a>'\n",
              "            + ' to learn more about interactive tables.';\n",
              "          element.innerHTML = '';\n",
              "          dataTable['output_type'] = 'display_data';\n",
              "          await google.colab.output.renderOutput(dataTable, element);\n",
              "          const docLink = document.createElement('div');\n",
              "          docLink.innerHTML = docLinkHtml;\n",
              "          element.appendChild(docLink);\n",
              "        }\n",
              "      </script>\n",
              "    </div>\n",
              "  </div>\n",
              "  "
            ],
            "text/plain": [
              "       Training Loss  Valid. Loss  Valid. Accur. Training Time Validation Time\n",
              "epoch                                                                         \n",
              "1               1.44         1.17           0.49       0:10:35         0:00:26\n",
              "2               1.15         1.10           0.51       0:10:34         0:00:26\n",
              "3               1.09         1.08           0.53       0:10:35         0:00:26\n",
              "4               1.07         1.08           0.53       0:10:36         0:00:26\n",
              "5               1.05         1.08           0.53       0:10:37         0:00:26"
            ]
          },
          "metadata": {},
          "execution_count": 20
        }
      ]
    },
    {
      "cell_type": "code",
      "source": [
        "plot_traing_val_loss(df_stats)"
      ],
      "metadata": {
        "id": "cUfmuSIZAliV",
        "colab": {
          "base_uri": "https://localhost:8080/",
          "height": 427
        },
        "outputId": "dfb5e8cb-95e2-4ec1-b935-1df2ebeb2942"
      },
      "execution_count": null,
      "outputs": [
        {
          "output_type": "display_data",
          "data": {
            "image/png": "[encoded data removed]",
            "text/plain": [
              "<Figure size 864x432 with 1 Axes>"
            ]
          },
          "metadata": {}
        }
      ]
    },
    {
      "cell_type": "markdown",
      "source": [
        "##Test"
      ],
      "metadata": {
        "id": "zU96ZUDQjTtV"
      }
    },
    {
      "cell_type": "code",
      "source": [
        "#!cd ../test\n",
        "en_test = pd.read_json(\"NLP_final_project/test/dataset_en_test.json\", lines=True)\n",
        "de_test = pd.read_json(\"NLP_final_project/test/dataset_de_test.json\", lines=True)\n",
        "es_test = pd.read_json(\"NLP_final_project/test/dataset_es_test.json\", lines=True)\n",
        "fr_test = pd.read_json(\"NLP_final_project/test/dataset_fr_test.json\", lines=True)\n",
        "ja_test = pd.read_json(\"NLP_final_project/test/dataset_ja_test.json\", lines=True)\n",
        "zh_test = pd.read_json(\"NLP_final_project/test/dataset_zh_test.json\", lines=True)"
      ],
      "metadata": {
        "id": "BsIHSiNLwO5A",
        "colab": {
          "base_uri": "https://localhost:8080/"
        },
        "outputId": "13818d93-5a23-417b-b812-2d34813e6775"
      },
      "execution_count": null,
      "outputs": [
        {
          "output_type": "stream",
          "name": "stdout",
          "text": [
            "/bin/bash: line 0: cd: ../test: No such file or directory\n"
          ]
        }
      ]
    },
    {
      "cell_type": "code",
      "source": [
        "test(en_test, model=model, tokenizer=tokenizer)"
      ],
      "metadata": {
        "id": "XS_AwMoy5BaG",
        "colab": {
          "base_uri": "https://localhost:8080/"
        },
        "outputId": "e86ffa6a-447d-4142-ebe4-833803698a01"
      },
      "execution_count": null,
      "outputs": [
        {
          "output_type": "stream",
          "name": "stderr",
          "text": [
            "/usr/local/lib/python3.7/dist-packages/transformers/tokenization_utils_base.py:2227: FutureWarning: The `pad_to_max_length` argument is deprecated and will be removed in a future version, use `padding=True` or `padding='longest'` to pad to the longest sequence in the batch, or use `padding='max_length'` to pad to a max length. In this case, you can give a specific length with `max_length` (e.g. `max_length=45`) or leave max_length to None to pad to the maximal input size of the model (e.g. 512 for Bert).\n",
            "  FutureWarning,\n"
          ]
        },
        {
          "output_type": "stream",
          "name": "stdout",
          "text": [
            "Test accuracy: 53.5800%\n",
            "Mean absoute error is: 0.5728\n"
          ]
        }
      ]
    },
    {
      "cell_type": "code",
      "source": [
        "test(de_test, model=model, tokenizer=tokenizer)"
      ],
      "metadata": {
        "id": "wZd9rvbd5PsV",
        "colab": {
          "base_uri": "https://localhost:8080/"
        },
        "outputId": "3a072268-fcf3-4d66-b985-5d1fab11db4e"
      },
      "execution_count": null,
      "outputs": [
        {
          "output_type": "stream",
          "name": "stderr",
          "text": [
            "/usr/local/lib/python3.7/dist-packages/transformers/tokenization_utils_base.py:2227: FutureWarning: The `pad_to_max_length` argument is deprecated and will be removed in a future version, use `padding=True` or `padding='longest'` to pad to the longest sequence in the batch, or use `padding='max_length'` to pad to a max length. In this case, you can give a specific length with `max_length` (e.g. `max_length=45`) or leave max_length to None to pad to the maximal input size of the model (e.g. 512 for Bert).\n",
            "  FutureWarning,\n"
          ]
        },
        {
          "output_type": "stream",
          "name": "stdout",
          "text": [
            "Test accuracy: 55.2200%\n",
            "Mean absoute error is: 0.5350\n"
          ]
        }
      ]
    },
    {
      "cell_type": "code",
      "source": [
        "test(es_test, model=model, tokenizer=tokenizer)"
      ],
      "metadata": {
        "id": "OSGReoSp5RT_",
        "colab": {
          "base_uri": "https://localhost:8080/"
        },
        "outputId": "3290d671-c6ed-40eb-9192-879c04baaaf8"
      },
      "execution_count": null,
      "outputs": [
        {
          "output_type": "stream",
          "name": "stderr",
          "text": [
            "/usr/local/lib/python3.7/dist-packages/transformers/tokenization_utils_base.py:2227: FutureWarning: The `pad_to_max_length` argument is deprecated and will be removed in a future version, use `padding=True` or `padding='longest'` to pad to the longest sequence in the batch, or use `padding='max_length'` to pad to a max length. In this case, you can give a specific length with `max_length` (e.g. `max_length=45`) or leave max_length to None to pad to the maximal input size of the model (e.g. 512 for Bert).\n",
            "  FutureWarning,\n"
          ]
        },
        {
          "output_type": "stream",
          "name": "stdout",
          "text": [
            "Test accuracy: 53.8400%\n",
            "Mean absoute error is: 0.5454\n"
          ]
        }
      ]
    },
    {
      "cell_type": "code",
      "source": [
        "test(fr_test, model=model, tokenizer=tokenizer)"
      ],
      "metadata": {
        "id": "ZNuCg0Ex5Rw0",
        "colab": {
          "base_uri": "https://localhost:8080/"
        },
        "outputId": "b14fe4fe-9dc0-4bf7-c8b3-8f3e6062c1cf"
      },
      "execution_count": null,
      "outputs": [
        {
          "output_type": "stream",
          "name": "stderr",
          "text": [
            "/usr/local/lib/python3.7/dist-packages/transformers/tokenization_utils_base.py:2227: FutureWarning: The `pad_to_max_length` argument is deprecated and will be removed in a future version, use `padding=True` or `padding='longest'` to pad to the longest sequence in the batch, or use `padding='max_length'` to pad to a max length. In this case, you can give a specific length with `max_length` (e.g. `max_length=45`) or leave max_length to None to pad to the maximal input size of the model (e.g. 512 for Bert).\n",
            "  FutureWarning,\n"
          ]
        },
        {
          "output_type": "stream",
          "name": "stdout",
          "text": [
            "Test accuracy: 51.9400%\n",
            "Mean absoute error is: 0.5954\n"
          ]
        }
      ]
    },
    {
      "cell_type": "code",
      "source": [
        "test(ja_test, model=model, tokenizer=tokenizer)"
      ],
      "metadata": {
        "id": "zniEDI4H5SI5",
        "colab": {
          "base_uri": "https://localhost:8080/"
        },
        "outputId": "7742f469-e2c3-416b-a97e-217bbbef18c6"
      },
      "execution_count": null,
      "outputs": [
        {
          "output_type": "stream",
          "name": "stderr",
          "text": [
            "/usr/local/lib/python3.7/dist-packages/transformers/tokenization_utils_base.py:2227: FutureWarning: The `pad_to_max_length` argument is deprecated and will be removed in a future version, use `padding=True` or `padding='longest'` to pad to the longest sequence in the batch, or use `padding='max_length'` to pad to a max length. In this case, you can give a specific length with `max_length` (e.g. `max_length=45`) or leave max_length to None to pad to the maximal input size of the model (e.g. 512 for Bert).\n",
            "  FutureWarning,\n"
          ]
        },
        {
          "output_type": "stream",
          "name": "stdout",
          "text": [
            "Test accuracy: 51.0600%\n",
            "Mean absoute error is: 0.5974\n"
          ]
        }
      ]
    },
    {
      "cell_type": "code",
      "source": [
        "test(zh_test, model=model, tokenizer=tokenizer)"
      ],
      "metadata": {
        "id": "Ltu452sq5SmU",
        "colab": {
          "base_uri": "https://localhost:8080/"
        },
        "outputId": "a7d1779e-2f3f-4eca-d55a-460f71f7dc3a"
      },
      "execution_count": null,
      "outputs": [
        {
          "output_type": "stream",
          "name": "stderr",
          "text": [
            "/usr/local/lib/python3.7/dist-packages/transformers/tokenization_utils_base.py:2227: FutureWarning: The `pad_to_max_length` argument is deprecated and will be removed in a future version, use `padding=True` or `padding='longest'` to pad to the longest sequence in the batch, or use `padding='max_length'` to pad to a max length. In this case, you can give a specific length with `max_length` (e.g. `max_length=45`) or leave max_length to None to pad to the maximal input size of the model (e.g. 512 for Bert).\n",
            "  FutureWarning,\n"
          ]
        },
        {
          "output_type": "stream",
          "name": "stdout",
          "text": [
            "Test accuracy: 46.3600%\n",
            "Mean absoute error is: 0.7564\n"
          ]
        }
      ]
    }
  ]
}